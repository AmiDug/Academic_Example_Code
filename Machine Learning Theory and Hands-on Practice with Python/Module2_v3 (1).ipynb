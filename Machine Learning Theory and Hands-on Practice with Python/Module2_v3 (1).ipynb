{
 "cells": [
  {
   "cell_type": "markdown",
   "metadata": {
    "deletable": false,
    "editable": false,
    "nbgrader": {
     "cell_type": "markdown",
     "checksum": "9b94c0552360fd39a72a27fbf2d6a549",
     "grade": false,
     "grade_id": "cell-4987257505ec9884",
     "locked": true,
     "schema_version": 3,
     "solution": false,
     "task": false
    }
   },
   "source": [
    "### WARNING\n",
    "Please refrain from using **print statements/anything that dumps large outputs(>500 lines) to STDOUT** to avoid running to into **memory issues**. \n",
    "Doing so requires your entire lab to be reset which may also result in loss of progress and you will be required to reach out to Coursera for assistance with this.\n",
    "This process usually takes time causing delays to your submission."
   ]
  },
  {
   "cell_type": "markdown",
   "metadata": {
    "deletable": false,
    "editable": false,
    "nbgrader": {
     "cell_type": "markdown",
     "checksum": "7b8938a1b09f02ca333311638e75dc1b",
     "grade": false,
     "grade_id": "cell-77449491740be285",
     "locked": true,
     "schema_version": 3,
     "solution": false,
     "task": false
    }
   },
   "source": [
    "### Validate Button\n",
    "Please note that this assignment uses nbgrader to facilitate grading. You will see a **validate button** at the top of your Jupyter notebook. If you hit this button, it will run tests cases for the lab that aren't hidden. It is good to use the validate button before submitting the lab. Do know that the labs in the course contain hidden test cases. The validate button will not let you know whether these test cases pass. After submitting your lab, you can see more information about these hidden test cases in the Grader Output. <br>\n",
    "***Cells with longer execution times will cause the validate button to time out and freeze. Please know that if you run into Validate time-outs, it will not affect the final submission grading.*** <br>"
   ]
  },
  {
   "cell_type": "code",
   "execution_count": 1,
   "metadata": {
    "deletable": false,
    "editable": false,
    "nbgrader": {
     "cell_type": "code",
     "checksum": "5fcf04359e4f58318a4f49068f7ed7cc",
     "grade": false,
     "grade_id": "cell-e4b3b8e5dba94833",
     "locked": true,
     "schema_version": 3,
     "solution": false,
     "task": false
    }
   },
   "outputs": [],
   "source": [
    "%matplotlib inline\n",
    "import numpy as np\n",
    "import scipy as sp\n",
    "import scipy.stats as stats\n",
    "import pandas as pd\n",
    "import matplotlib.pyplot as plt\n",
    "import seaborn as sns\n",
    "# Set color map to have light blue background\n",
    "sns.set()\n",
    "import statsmodels.formula.api as smf\n",
    "import statsmodels.api as sm"
   ]
  },
  {
   "cell_type": "markdown",
   "metadata": {
    "deletable": false,
    "editable": false,
    "nbgrader": {
     "cell_type": "markdown",
     "checksum": "5321ddafe1d106af0ce1198bbe0bf5b1",
     "grade": false,
     "grade_id": "cell-9053db523658abe7",
     "locked": true,
     "schema_version": 3,
     "solution": false,
     "task": false
    }
   },
   "source": [
    "N.B.: I recommend that you use the `statsmodel` library to do the regression analysis as opposed to *e.g.* `sklearn`. The `sklearn` library is great for advanced topics, but it's easier to get lost in a sea of details and it's not needed for these problems."
   ]
  },
  {
   "cell_type": "markdown",
   "metadata": {
    "deletable": false,
    "editable": false,
    "nbgrader": {
     "cell_type": "markdown",
     "checksum": "941726f345e5985f9de17219118382c0",
     "grade": false,
     "grade_id": "cell-b1e4ef7d92635e96",
     "locked": true,
     "schema_version": 3,
     "solution": false,
     "task": false
    }
   },
   "source": [
    "# 1.  Polynomial regression using MPG data [25 pts, Peer Review]\n",
    "We will be using Auto MPG data from UCI datasets (https://archive.ics.uci.edu/ml/datasets/Auto+MPG) to study polynomial regression."
   ]
  },
  {
   "cell_type": "code",
   "execution_count": 2,
   "metadata": {
    "deletable": false,
    "editable": false,
    "nbgrader": {
     "cell_type": "code",
     "checksum": "99b68acb494ea289b6845d14c5621157",
     "grade": false,
     "grade_id": "cell-6ab9f7cc3182ff00",
     "locked": true,
     "schema_version": 3,
     "solution": false,
     "task": false
    }
   },
   "outputs": [
    {
     "name": "stdout",
     "output_type": "stream",
     "text": [
      "<class 'pandas.core.frame.DataFrame'>\n",
      "RangeIndex: 398 entries, 0 to 397\n",
      "Data columns (total 9 columns):\n",
      " #   Column        Non-Null Count  Dtype  \n",
      "---  ------        --------------  -----  \n",
      " 0   mpg           398 non-null    float64\n",
      " 1   cylinders     398 non-null    int64  \n",
      " 2   displacement  398 non-null    float64\n",
      " 3   horsepower    398 non-null    object \n",
      " 4   weight        398 non-null    float64\n",
      " 5   acceleration  398 non-null    float64\n",
      " 6   model_year    398 non-null    int64  \n",
      " 7   origin        398 non-null    int64  \n",
      " 8   car_name      398 non-null    object \n",
      "dtypes: float64(4), int64(3), object(2)\n",
      "memory usage: 28.1+ KB\n",
      "None\n"
     ]
    },
    {
     "data": {
      "text/html": [
       "<div>\n",
       "<style scoped>\n",
       "    .dataframe tbody tr th:only-of-type {\n",
       "        vertical-align: middle;\n",
       "    }\n",
       "\n",
       "    .dataframe tbody tr th {\n",
       "        vertical-align: top;\n",
       "    }\n",
       "\n",
       "    .dataframe thead th {\n",
       "        text-align: right;\n",
       "    }\n",
       "</style>\n",
       "<table border=\"1\" class=\"dataframe\">\n",
       "  <thead>\n",
       "    <tr style=\"text-align: right;\">\n",
       "      <th></th>\n",
       "      <th>mpg</th>\n",
       "      <th>cylinders</th>\n",
       "      <th>displacement</th>\n",
       "      <th>weight</th>\n",
       "      <th>acceleration</th>\n",
       "      <th>model_year</th>\n",
       "      <th>origin</th>\n",
       "    </tr>\n",
       "  </thead>\n",
       "  <tbody>\n",
       "    <tr>\n",
       "      <th>count</th>\n",
       "      <td>398.000000</td>\n",
       "      <td>398.000000</td>\n",
       "      <td>398.000000</td>\n",
       "      <td>398.000000</td>\n",
       "      <td>398.000000</td>\n",
       "      <td>398.000000</td>\n",
       "      <td>398.000000</td>\n",
       "    </tr>\n",
       "    <tr>\n",
       "      <th>mean</th>\n",
       "      <td>23.514573</td>\n",
       "      <td>5.454774</td>\n",
       "      <td>193.425879</td>\n",
       "      <td>2970.424623</td>\n",
       "      <td>15.568090</td>\n",
       "      <td>76.010050</td>\n",
       "      <td>1.572864</td>\n",
       "    </tr>\n",
       "    <tr>\n",
       "      <th>std</th>\n",
       "      <td>7.815984</td>\n",
       "      <td>1.701004</td>\n",
       "      <td>104.269838</td>\n",
       "      <td>846.841774</td>\n",
       "      <td>2.757689</td>\n",
       "      <td>3.697627</td>\n",
       "      <td>0.802055</td>\n",
       "    </tr>\n",
       "    <tr>\n",
       "      <th>min</th>\n",
       "      <td>9.000000</td>\n",
       "      <td>3.000000</td>\n",
       "      <td>68.000000</td>\n",
       "      <td>1613.000000</td>\n",
       "      <td>8.000000</td>\n",
       "      <td>70.000000</td>\n",
       "      <td>1.000000</td>\n",
       "    </tr>\n",
       "    <tr>\n",
       "      <th>25%</th>\n",
       "      <td>17.500000</td>\n",
       "      <td>4.000000</td>\n",
       "      <td>104.250000</td>\n",
       "      <td>2223.750000</td>\n",
       "      <td>13.825000</td>\n",
       "      <td>73.000000</td>\n",
       "      <td>1.000000</td>\n",
       "    </tr>\n",
       "    <tr>\n",
       "      <th>50%</th>\n",
       "      <td>23.000000</td>\n",
       "      <td>4.000000</td>\n",
       "      <td>148.500000</td>\n",
       "      <td>2803.500000</td>\n",
       "      <td>15.500000</td>\n",
       "      <td>76.000000</td>\n",
       "      <td>1.000000</td>\n",
       "    </tr>\n",
       "    <tr>\n",
       "      <th>75%</th>\n",
       "      <td>29.000000</td>\n",
       "      <td>8.000000</td>\n",
       "      <td>262.000000</td>\n",
       "      <td>3608.000000</td>\n",
       "      <td>17.175000</td>\n",
       "      <td>79.000000</td>\n",
       "      <td>2.000000</td>\n",
       "    </tr>\n",
       "    <tr>\n",
       "      <th>max</th>\n",
       "      <td>46.600000</td>\n",
       "      <td>8.000000</td>\n",
       "      <td>455.000000</td>\n",
       "      <td>5140.000000</td>\n",
       "      <td>24.800000</td>\n",
       "      <td>82.000000</td>\n",
       "      <td>3.000000</td>\n",
       "    </tr>\n",
       "  </tbody>\n",
       "</table>\n",
       "</div>"
      ],
      "text/plain": [
       "              mpg   cylinders  displacement       weight  acceleration  \\\n",
       "count  398.000000  398.000000    398.000000   398.000000    398.000000   \n",
       "mean    23.514573    5.454774    193.425879  2970.424623     15.568090   \n",
       "std      7.815984    1.701004    104.269838   846.841774      2.757689   \n",
       "min      9.000000    3.000000     68.000000  1613.000000      8.000000   \n",
       "25%     17.500000    4.000000    104.250000  2223.750000     13.825000   \n",
       "50%     23.000000    4.000000    148.500000  2803.500000     15.500000   \n",
       "75%     29.000000    8.000000    262.000000  3608.000000     17.175000   \n",
       "max     46.600000    8.000000    455.000000  5140.000000     24.800000   \n",
       "\n",
       "       model_year      origin  \n",
       "count  398.000000  398.000000  \n",
       "mean    76.010050    1.572864  \n",
       "std      3.697627    0.802055  \n",
       "min     70.000000    1.000000  \n",
       "25%     73.000000    1.000000  \n",
       "50%     76.000000    1.000000  \n",
       "75%     79.000000    2.000000  \n",
       "max     82.000000    3.000000  "
      ]
     },
     "execution_count": 2,
     "metadata": {},
     "output_type": "execute_result"
    }
   ],
   "source": [
    "columns = ['mpg','cylinders','displacement','horsepower','weight','acceleration','model_year','origin','car_name']\n",
    "df = pd.read_csv(\"data/auto-mpg.data\", header=None, delimiter=r\"\\s+\", names=columns) \n",
    "print(df.info())\n",
    "df.describe()"
   ]
  },
  {
   "cell_type": "markdown",
   "metadata": {
    "deletable": false,
    "editable": false,
    "nbgrader": {
     "cell_type": "markdown",
     "checksum": "d66e4cc0322f58a9600526aad669d932",
     "grade": false,
     "grade_id": "cell-0970d31c4644246a",
     "locked": true,
     "schema_version": 3,
     "solution": false,
     "task": false
    }
   },
   "source": [
    "### 1a) Clean the data [5 pts] \n",
    "\n",
    "1. Fix data types\n",
    "2. Remove null or undefined values \n",
    "3. Drop the column car_name\n",
    "\n",
    "Replace the data frame with the cleaned data frame. Do not change the column names, and do not add new columns.\n",
    "\n",
    "Hint: 1. Dtype of one column is incorrect.  "
   ]
  },
  {
   "cell_type": "code",
   "execution_count": 3,
   "metadata": {
    "deletable": false,
    "nbgrader": {
     "cell_type": "code",
     "checksum": "3d3715f95049cdf5a98cf782436c42d0",
     "grade": false,
     "grade_id": "cell-62afc4802962eabb",
     "locked": false,
     "schema_version": 3,
     "solution": true,
     "task": false
    }
   },
   "outputs": [],
   "source": [
    "# replace data frame with cleaned data frame\n",
    "# fix data types, remove null or undefined values, drop the column car_name\n",
    "# NOTE: do not change the column names or add new columns \n",
    "# your code here\n",
    "df['horsepower'] = pd.to_numeric(df['horsepower'], errors='coerce')\n",
    "df = df.dropna()\n",
    "df = df.drop('car_name', axis=1)"
   ]
  },
  {
   "cell_type": "code",
   "execution_count": null,
   "metadata": {
    "deletable": false,
    "editable": false,
    "nbgrader": {
     "cell_type": "code",
     "checksum": "b73dab50aa3325ac620f85bd856bc662",
     "grade": true,
     "grade_id": "cell-3bb1f13b2e888fa2",
     "locked": true,
     "points": 5,
     "schema_version": 3,
     "solution": false,
     "task": false
    }
   },
   "outputs": [],
   "source": [
    "# this cell will test that you properly cleaned the dataframe "
   ]
  },
  {
   "cell_type": "markdown",
   "metadata": {
    "deletable": false,
    "editable": false,
    "nbgrader": {
     "cell_type": "markdown",
     "checksum": "3c568a653610a889a8f07e47b03f9c17",
     "grade": false,
     "grade_id": "cell-cae84acc6222fae0",
     "locked": true,
     "schema_version": 3,
     "solution": false,
     "task": false
    }
   },
   "source": [
    "### 1b) Fit a simple linear regression model with a feature that maximizes $R^2$. [5 pts]\n",
    "Which feature is the best predictor, and the resulting r-squared value? Update your answer below."
   ]
  },
  {
   "cell_type": "code",
   "execution_count": 4,
   "metadata": {
    "deletable": false,
    "nbgrader": {
     "cell_type": "code",
     "checksum": "85cafbf2b087159b9395f8c00b78d365",
     "grade": false,
     "grade_id": "cell-95afec916a05fed8",
     "locked": false,
     "schema_version": 3,
     "solution": true,
     "task": false
    }
   },
   "outputs": [
    {
     "data": {
      "text/plain": [
       "('weight', 0.6926304331206254)"
      ]
     },
     "execution_count": 4,
     "metadata": {},
     "output_type": "execute_result"
    }
   ],
   "source": [
    "# your code here\n",
    "best_predictor = ''\n",
    "best_r_squared = 0\n",
    "features = ['cylinders', 'displacement', 'horsepower', 'weight', 'acceleration', 'model_year', 'origin']\n",
    "for feature in features:\n",
    "    X = sm.add_constant(df[feature])\n",
    "    y = df['mpg']\n",
    "    model = sm.OLS(y, X).fit()\n",
    "    r_squared = model.rsquared\n",
    "    if r_squared > best_r_squared:\n",
    "        best_r_squared = r_squared\n",
    "        best_predictor = feature\n",
    "best_predictor, best_r_squared"
   ]
  },
  {
   "cell_type": "code",
   "execution_count": null,
   "metadata": {
    "deletable": false,
    "editable": false,
    "nbgrader": {
     "cell_type": "code",
     "checksum": "17ae5a597735e5ef5199487fa27c7e43",
     "grade": true,
     "grade_id": "cell-a0a1c4e81af87837",
     "locked": true,
     "points": 5,
     "schema_version": 3,
     "solution": false,
     "task": false
    }
   },
   "outputs": [],
   "source": [
    "# this cell will test best_predictor and best_r_squared"
   ]
  },
  {
   "cell_type": "markdown",
   "metadata": {
    "deletable": false,
    "editable": false,
    "nbgrader": {
     "cell_type": "markdown",
     "checksum": "03507eba7d8f7b250feb4379aacc2822",
     "grade": false,
     "grade_id": "cell-9decb69047193e5b",
     "locked": true,
     "schema_version": 3,
     "solution": false,
     "task": false
    }
   },
   "source": [
    "### 1c) Using the feature found above (without normalizing), fit polynomial regression up to N=10 and report $R^2$. Which polynomial degree gives the best result? [10 pts]\n",
    "Hint: For N-degree polynomial fit, **you have to include all orders upto N**. Use a for loop instead of running it manually. The `statsmodels.formula.api` formula string can understand **`np.power(x,n)`** function to include a feature representing $x^n$.\n",
    "\n",
    "For example, the formula for n = 4 ---> mpg ~ weight + np.power(weight,2) + np.power(weight,3) + np.power(weight,4)"
   ]
  },
  {
   "cell_type": "code",
   "execution_count": 5,
   "metadata": {
    "deletable": false,
    "nbgrader": {
     "cell_type": "code",
     "checksum": "5eff5fe01be3ea4606103764c9baf7b0",
     "grade": false,
     "grade_id": "cell-006f7fbcfed58b23",
     "locked": false,
     "schema_version": 3,
     "solution": true,
     "task": false
    }
   },
   "outputs": [
    {
     "data": {
      "text/plain": [
       "(3, 0.715149595486925)"
      ]
     },
     "execution_count": 5,
     "metadata": {},
     "output_type": "execute_result"
    }
   ],
   "source": [
    "# return updated best_degree and best_r_squared \n",
    "best_degree = 1\n",
    "best_r_squared = 0\n",
    "# your code here\n",
    "for degree in range(1, 11):\n",
    "    formula_terms = ['weight']\n",
    "    for power in range(2, degree + 1):\n",
    "        formula_terms.append(f'np.power(weight, {power})')\n",
    "    formula = 'mpg ~ ' + ' + '.join(formula_terms)\n",
    "    model = sm.OLS.from_formula(formula, data=df).fit()\n",
    "    r_squared = model.rsquared\n",
    "    if r_squared > best_r_squared:\n",
    "        best_r_squared = r_squared\n",
    "        best_degree = degree\n",
    "best_degree, best_r_squared"
   ]
  },
  {
   "cell_type": "code",
   "execution_count": null,
   "metadata": {
    "deletable": false,
    "editable": false,
    "nbgrader": {
     "cell_type": "code",
     "checksum": "d77794138a992b7fac1bd43440657795",
     "grade": true,
     "grade_id": "cell-f1eadefb34bd33c2",
     "locked": true,
     "points": 10,
     "schema_version": 3,
     "solution": false,
     "task": false
    }
   },
   "outputs": [],
   "source": [
    "# this cell tests best_degree and best_r_squared "
   ]
  },
  {
   "cell_type": "markdown",
   "metadata": {
    "deletable": false,
    "editable": false,
    "nbgrader": {
     "cell_type": "markdown",
     "checksum": "77322bb635e2ba9cc3f27a382fede78f",
     "grade": false,
     "grade_id": "cell-b7b1be7a931d2728",
     "locked": true,
     "schema_version": 3,
     "solution": false,
     "task": false
    }
   },
   "source": [
    "### 1d) Now, let's make a new feature called 'weight_norm' which is weight normalized by the mean value. [5 pts]\n",
    "Run training with polynomial models with polynomial degrees up to 20. Print out each polynomial degree and $R^2$ value. What do you observe from the result? What are the best_degree and best_r_qaured just based on $R^2$ value?\n",
    "Inspect model summary from each model. What is the highest order model that makes sense (fill the value for the sound_degree)? \n",
    "\n",
    "Note: For N-degree polynomial fit, you have to include all orders upto N."
   ]
  },
  {
   "cell_type": "code",
   "execution_count": 6,
   "metadata": {
    "deletable": false,
    "nbgrader": {
     "cell_type": "code",
     "checksum": "9f8eb6a5bea83f6fd4f455ab5423fa8f",
     "grade": false,
     "grade_id": "cell-6b06ce4c2b694439",
     "locked": false,
     "schema_version": 3,
     "solution": true,
     "task": false
    }
   },
   "outputs": [
    {
     "data": {
      "text/plain": [
       "(20, 0.7245259039513001, 2)"
      ]
     },
     "execution_count": 6,
     "metadata": {},
     "output_type": "execute_result"
    }
   ],
   "source": [
    "best_degree = 1\n",
    "best_r_squared = 0 \n",
    "sound_degree = 1\n",
    "\n",
    "df['weight_norm'] = df['weight']/df['weight'].mean()\n",
    "# your code here\n",
    "sound_degree = 1\n",
    "for degree in range(1, 21):\n",
    "    formula_terms = ['weight_norm']\n",
    "    for power in range(2, degree + 1):\n",
    "        formula_terms.append(f'np.power(weight_norm, {power})')\n",
    "    formula = 'mpg ~ ' + ' + '.join(formula_terms)\n",
    "    model = sm.OLS.from_formula(formula, data=df).fit()\n",
    "    r_squared = model.rsquared\n",
    "    if r_squared > best_r_squared:\n",
    "        best_r_squared = r_squared\n",
    "        best_degree = degree\n",
    "    if all(p < 0.05 for p in model.pvalues[1:]):\n",
    "        sound_degree = degree\n",
    "best_degree, best_r_squared, sound_degree"
   ]
  },
  {
   "cell_type": "code",
   "execution_count": null,
   "metadata": {
    "deletable": false,
    "editable": false,
    "nbgrader": {
     "cell_type": "code",
     "checksum": "04aa0d5c7219e7b75c5c2c40f6977f25",
     "grade": true,
     "grade_id": "cell-9e5cf0218fc7223e",
     "locked": true,
     "points": 5,
     "schema_version": 3,
     "solution": false,
     "task": false
    }
   },
   "outputs": [],
   "source": [
    "# tests best_degree, best_r_squared, and sound_degree"
   ]
  },
  {
   "cell_type": "markdown",
   "metadata": {
    "deletable": false,
    "editable": false,
    "nbgrader": {
     "cell_type": "markdown",
     "checksum": "b3a40a495119e5f20a1f1a5d71cd9a5a",
     "grade": false,
     "grade_id": "cell-6a0c0f990a4d625c",
     "locked": true,
     "schema_version": 3,
     "solution": false,
     "task": false
    }
   },
   "source": [
    "### TODO: \n",
    "Open the Peer Review assignment for this week to answer a question for section 1d. "
   ]
  },
  {
   "cell_type": "markdown",
   "metadata": {
    "deletable": false,
    "editable": false,
    "nbgrader": {
     "cell_type": "markdown",
     "checksum": "bcdeca2ee3a270b46760bb39695fcfab",
     "grade": false,
     "grade_id": "cell-e8cf71ca601f0306",
     "locked": true,
     "schema_version": 3,
     "solution": false,
     "task": false
    }
   },
   "source": [
    "# 2. Multi-Linear Regression [15 pts, Peer Review]"
   ]
  },
  {
   "cell_type": "markdown",
   "metadata": {
    "deletable": false,
    "editable": false,
    "nbgrader": {
     "cell_type": "markdown",
     "checksum": "bb6ec556f086d3c6ce58fe22f538f691",
     "grade": false,
     "grade_id": "cell-e9eaa96657b9c0dd",
     "locked": true,
     "schema_version": 3,
     "solution": false,
     "task": false
    }
   },
   "source": [
    "In the following problem, you will construct a simple multi-linear regression model, identify interaction terms and use diagnostic plots to identify outliers in the data. The original problem is as described by John Verzani in the [excellent tutorial 'SimplR' on the R statistics language](https://cran.r-project.org/doc/contrib/Verzani-SimpleR.pdf) and uses data from the 2000 presidential election in Florida. The problem is interesting because it contains a small number of highly leveraged points that influence the model."
   ]
  },
  {
   "cell_type": "code",
   "execution_count": 7,
   "metadata": {
    "deletable": false,
    "editable": false,
    "nbgrader": {
     "cell_type": "code",
     "checksum": "650e938a68d060bacf43eadb71c05f76",
     "grade": false,
     "grade_id": "cell-3c062b1300f9a41e",
     "locked": true,
     "schema_version": 3,
     "solution": false,
     "task": false
    }
   },
   "outputs": [
    {
     "data": {
      "text/html": [
       "<div>\n",
       "<style scoped>\n",
       "    .dataframe tbody tr th:only-of-type {\n",
       "        vertical-align: middle;\n",
       "    }\n",
       "\n",
       "    .dataframe tbody tr th {\n",
       "        vertical-align: top;\n",
       "    }\n",
       "\n",
       "    .dataframe thead th {\n",
       "        text-align: right;\n",
       "    }\n",
       "</style>\n",
       "<table border=\"1\" class=\"dataframe\">\n",
       "  <thead>\n",
       "    <tr style=\"text-align: right;\">\n",
       "      <th></th>\n",
       "      <th>county</th>\n",
       "      <th>Bush</th>\n",
       "      <th>Gore</th>\n",
       "      <th>Nader</th>\n",
       "      <th>Buchanan</th>\n",
       "    </tr>\n",
       "  </thead>\n",
       "  <tbody>\n",
       "    <tr>\n",
       "      <th>count</th>\n",
       "      <td>67</td>\n",
       "      <td>67.000000</td>\n",
       "      <td>67.000000</td>\n",
       "      <td>67.000000</td>\n",
       "      <td>67.000000</td>\n",
       "    </tr>\n",
       "    <tr>\n",
       "      <th>unique</th>\n",
       "      <td>67</td>\n",
       "      <td>NaN</td>\n",
       "      <td>NaN</td>\n",
       "      <td>NaN</td>\n",
       "      <td>NaN</td>\n",
       "    </tr>\n",
       "    <tr>\n",
       "      <th>top</th>\n",
       "      <td>Clay</td>\n",
       "      <td>NaN</td>\n",
       "      <td>NaN</td>\n",
       "      <td>NaN</td>\n",
       "      <td>NaN</td>\n",
       "    </tr>\n",
       "    <tr>\n",
       "      <th>freq</th>\n",
       "      <td>1</td>\n",
       "      <td>NaN</td>\n",
       "      <td>NaN</td>\n",
       "      <td>NaN</td>\n",
       "      <td>NaN</td>\n",
       "    </tr>\n",
       "    <tr>\n",
       "      <th>mean</th>\n",
       "      <td>NaN</td>\n",
       "      <td>43450.970149</td>\n",
       "      <td>43453.985075</td>\n",
       "      <td>1454.119403</td>\n",
       "      <td>260.880597</td>\n",
       "    </tr>\n",
       "    <tr>\n",
       "      <th>std</th>\n",
       "      <td>NaN</td>\n",
       "      <td>57182.620266</td>\n",
       "      <td>75070.435056</td>\n",
       "      <td>2033.620972</td>\n",
       "      <td>450.498092</td>\n",
       "    </tr>\n",
       "    <tr>\n",
       "      <th>min</th>\n",
       "      <td>NaN</td>\n",
       "      <td>1317.000000</td>\n",
       "      <td>789.000000</td>\n",
       "      <td>19.000000</td>\n",
       "      <td>9.000000</td>\n",
       "    </tr>\n",
       "    <tr>\n",
       "      <th>25%</th>\n",
       "      <td>NaN</td>\n",
       "      <td>4757.000000</td>\n",
       "      <td>3058.000000</td>\n",
       "      <td>95.500000</td>\n",
       "      <td>46.500000</td>\n",
       "    </tr>\n",
       "    <tr>\n",
       "      <th>50%</th>\n",
       "      <td>NaN</td>\n",
       "      <td>20206.000000</td>\n",
       "      <td>14167.000000</td>\n",
       "      <td>562.000000</td>\n",
       "      <td>120.000000</td>\n",
       "    </tr>\n",
       "    <tr>\n",
       "      <th>75%</th>\n",
       "      <td>NaN</td>\n",
       "      <td>56546.500000</td>\n",
       "      <td>46015.000000</td>\n",
       "      <td>1870.500000</td>\n",
       "      <td>285.500000</td>\n",
       "    </tr>\n",
       "    <tr>\n",
       "      <th>max</th>\n",
       "      <td>NaN</td>\n",
       "      <td>289533.000000</td>\n",
       "      <td>387703.000000</td>\n",
       "      <td>10022.000000</td>\n",
       "      <td>3411.000000</td>\n",
       "    </tr>\n",
       "  </tbody>\n",
       "</table>\n",
       "</div>"
      ],
      "text/plain": [
       "       county           Bush           Gore         Nader     Buchanan\n",
       "count      67      67.000000      67.000000     67.000000    67.000000\n",
       "unique     67            NaN            NaN           NaN          NaN\n",
       "top      Clay            NaN            NaN           NaN          NaN\n",
       "freq        1            NaN            NaN           NaN          NaN\n",
       "mean      NaN   43450.970149   43453.985075   1454.119403   260.880597\n",
       "std       NaN   57182.620266   75070.435056   2033.620972   450.498092\n",
       "min       NaN    1317.000000     789.000000     19.000000     9.000000\n",
       "25%       NaN    4757.000000    3058.000000     95.500000    46.500000\n",
       "50%       NaN   20206.000000   14167.000000    562.000000   120.000000\n",
       "75%       NaN   56546.500000   46015.000000   1870.500000   285.500000\n",
       "max       NaN  289533.000000  387703.000000  10022.000000  3411.000000"
      ]
     },
     "execution_count": 7,
     "metadata": {},
     "output_type": "execute_result"
    }
   ],
   "source": [
    "votes = pd.read_csv('data/fl2000.txt', delim_whitespace=True, comment='#')\n",
    "votes = votes[['county', 'Bush', 'Gore', 'Nader', 'Buchanan']]\n",
    "votes.describe(include='all')"
   ]
  },
  {
   "cell_type": "markdown",
   "metadata": {
    "deletable": false,
    "editable": false,
    "nbgrader": {
     "cell_type": "markdown",
     "checksum": "ac095a5f66f36f290efc3daa77753f1d",
     "grade": false,
     "grade_id": "cell-34a57617922dd7b2",
     "locked": true,
     "schema_version": 3,
     "solution": false,
     "task": false
    }
   },
   "source": [
    "### 2a. Plot a pair plot of the data using the `seaborn` library. [Peer Review]\n",
    "Upload a screenshot or saved copy of your plot for this week's Peer Review assignment.<br>\n",
    "**Note:** your code for this section may cause the Validate button to time out. If you want to run the Validate button prior to submitting, you could comment out the code in this section after completing the Peer Review."
   ]
  },
  {
   "cell_type": "code",
   "execution_count": 5,
   "metadata": {
    "deletable": false,
    "nbgrader": {
     "cell_type": "code",
     "checksum": "4580e4653feab570c9b0fa3db7ba3444",
     "grade": false,
     "grade_id": "cell-6295591c65139c70",
     "locked": false,
     "schema_version": 3,
     "solution": true,
     "task": false
    }
   },
   "outputs": [
    {
     "data": {
      "image/png": "[encoded data removed]",
      "text/plain": [
       "<Figure size 720x720 with 20 Axes>"
      ]
     },
     "metadata": {},
     "output_type": "display_data"
    }
   ],
   "source": [
    "# plot a pair plot of the data using the seaborn library\n",
    "# possible way to save the image\n",
    "# plt.savefig('pair_plot.png', dpi = 300, bbox_inches = 'tight')\n",
    "# your code here\n",
    "#sns.pairplot(votes)\n",
    "#plt.savefig('pair_plot.png', dpi=300, bbox_inches='tight')"
   ]
  },
  {
   "cell_type": "markdown",
   "metadata": {
    "deletable": false,
    "editable": false,
    "nbgrader": {
     "cell_type": "markdown",
     "checksum": "77eba6c741c09bd255b273a9f3d77519",
     "grade": false,
     "grade_id": "cell-b72a220a013a11eb",
     "locked": true,
     "schema_version": 3,
     "solution": false,
     "task": false
    }
   },
   "source": [
    "### 2b. Comment on the relationship between the quantiative datasets. Are they correlated? Collinear? [Peer Review]\n",
    "You will answer this question in this week's Peer Review assignment."
   ]
  },
  {
   "cell_type": "markdown",
   "metadata": {
    "deletable": false,
    "editable": false,
    "nbgrader": {
     "cell_type": "markdown",
     "checksum": "0ce62030747239510e2a7f5e6537bb6e",
     "grade": false,
     "grade_id": "cell-27c84c69998660fd",
     "locked": true,
     "schema_version": 3,
     "solution": false,
     "task": false
    }
   },
   "source": [
    "### 2c. Multi-linear [5 pts, Peer Review]\n",
    "\n",
    "Construct a multi-linear model called `model` without interaction terms predicting the Bush column on the other columns and print out the summary table. You should name your model's object as `model` in order to pass the autograder. Use the full data (not train-test split for now) and do not scale features."
   ]
  },
  {
   "cell_type": "code",
   "execution_count": 8,
   "metadata": {
    "deletable": false,
    "nbgrader": {
     "cell_type": "code",
     "checksum": "f1f04143151d86d74cce9f60e1b84c2e",
     "grade": false,
     "grade_id": "cell-3e217b35eef74be5",
     "locked": false,
     "schema_version": 3,
     "solution": true,
     "task": false
    }
   },
   "outputs": [],
   "source": [
    "# uncomment and construct a multi-linear model \n",
    "# model = \n",
    "# your code here\n",
    "model = smf.ols('Bush ~ Gore + Nader + Buchanan', data=votes).fit()"
   ]
  },
  {
   "cell_type": "code",
   "execution_count": null,
   "metadata": {
    "deletable": false,
    "editable": false,
    "nbgrader": {
     "cell_type": "code",
     "checksum": "5a50f4cd807b1853c12a678d548bcb88",
     "grade": true,
     "grade_id": "cell-0f446ca83e177241",
     "locked": true,
     "points": 3,
     "schema_version": 3,
     "solution": false,
     "task": false
    }
   },
   "outputs": [],
   "source": [
    "# tests model"
   ]
  },
  {
   "cell_type": "markdown",
   "metadata": {
    "deletable": false,
    "editable": false,
    "nbgrader": {
     "cell_type": "markdown",
     "checksum": "2ad4bc982aba8cbc23dbd612ccefe4e3",
     "grade": false,
     "grade_id": "cell-5ec540187e23c55b",
     "locked": true,
     "schema_version": 3,
     "solution": false,
     "task": false
    }
   },
   "source": [
    "Is there any insignificant feature(s)? Explain your answer in this week's Peer Review assignment. "
   ]
  },
  {
   "cell_type": "markdown",
   "metadata": {
    "deletable": false,
    "editable": false,
    "nbgrader": {
     "cell_type": "markdown",
     "checksum": "3716f4db7d6130148683606b82775b62",
     "grade": false,
     "grade_id": "cell-91b57f0a9964a836",
     "locked": true,
     "schema_version": 3,
     "solution": false,
     "task": false
    }
   },
   "source": [
    "### 2d. Multi-linear with interactions [Peer Review]\n",
    "\n",
    "Construct a multi-linear model with interactions that are statistically significant at the $p = 0.05$ level. You can start with full interactions and then eliminate interactions that do not meet the $p = 0.05$ threshold. You will share your solution in this week's Peer Review assignment. \n",
    "\n",
    "Note: Name this model object as **`model_multi`**."
   ]
  },
  {
   "cell_type": "code",
   "execution_count": 22,
   "metadata": {
    "deletable": false,
    "nbgrader": {
     "cell_type": "code",
     "checksum": "7aaee7a000ff2b1f1692f0a2384934ca",
     "grade": false,
     "grade_id": "cell-22c0b20ec31ac9c9",
     "locked": false,
     "schema_version": 3,
     "solution": true,
     "task": false
    }
   },
   "outputs": [
    {
     "name": "stdout",
     "output_type": "stream",
     "text": [
      "                            OLS Regression Results                            \n",
      "==============================================================================\n",
      "Dep. Variable:                   Bush   R-squared:                       0.888\n",
      "Model:                            OLS   Adj. R-squared:                  0.882\n",
      "Method:                 Least Squares   F-statistic:                     165.7\n",
      "Date:                Sat, 30 Nov 2024   Prob (F-statistic):           7.76e-30\n",
      "Time:                        21:55:35   Log-Likelihood:                -755.29\n",
      "No. Observations:                  67   AIC:                             1519.\n",
      "Df Residuals:                      63   BIC:                             1527.\n",
      "Df Model:                           3                                         \n",
      "Covariance Type:            nonrobust                                         \n",
      "==================================================================================\n",
      "                     coef    std err          t      P>|t|      [0.025      0.975]\n",
      "----------------------------------------------------------------------------------\n",
      "Intercept       6612.0638   3024.379      2.186      0.033     568.324    1.27e+04\n",
      "Gore               0.4755      0.067      7.127      0.000       0.342       0.609\n",
      "Nader             13.4861      2.481      5.435      0.000       8.528      18.444\n",
      "Nader:Buchanan    -0.0035      0.001     -2.628      0.011      -0.006      -0.001\n",
      "==============================================================================\n",
      "Omnibus:                       23.144   Durbin-Watson:                   1.984\n",
      "Prob(Omnibus):                  0.000   Jarque-Bera (JB):              198.816\n",
      "Skew:                          -0.316   Prob(JB):                     6.72e-44\n",
      "Kurtosis:                      11.415   Cond. No.                     3.68e+06\n",
      "==============================================================================\n",
      "\n",
      "Warnings:\n",
      "[1] Standard Errors assume that the covariance matrix of the errors is correctly specified.\n",
      "[2] The condition number is large, 3.68e+06. This might indicate that there are\n",
      "strong multicollinearity or other numerical problems.\n"
     ]
    }
   ],
   "source": [
    "# uncomment and construct multi-linear model \n",
    "# model_multi = \n",
    "# your code here\n",
    "model_multi = smf.ols('Bush ~ Gore + Nader + Nader:Buchanan', data=votes).fit()\n",
    "print(model_multi.summary())"
   ]
  },
  {
   "cell_type": "code",
   "execution_count": 8,
   "metadata": {
    "deletable": false,
    "editable": false,
    "nbgrader": {
     "cell_type": "code",
     "checksum": "397523e7e29f6c551cbeba67df1a5f7c",
     "grade": true,
     "grade_id": "cell-eb632c2993a3a21e",
     "locked": true,
     "points": 5,
     "schema_version": 3,
     "solution": false,
     "task": false
    }
   },
   "outputs": [],
   "source": [
    "# tests model_multi"
   ]
  },
  {
   "cell_type": "code",
   "execution_count": 10,
   "metadata": {
    "deletable": false,
    "nbgrader": {
     "cell_type": "code",
     "checksum": "ec85a9f2a7e62c09573b60c001b95905",
     "grade": false,
     "grade_id": "cell-07dd7f2ef51e935d",
     "locked": false,
     "schema_version": 3,
     "solution": true,
     "task": false
    }
   },
   "outputs": [],
   "source": [
    "# tests model_multi \n",
    "# your code here"
   ]
  },
  {
   "cell_type": "markdown",
   "metadata": {
    "deletable": false,
    "editable": false,
    "nbgrader": {
     "cell_type": "markdown",
     "checksum": "bc78817205e93cacf8ea393d590ed6f3",
     "grade": false,
     "grade_id": "cell-b98112cfec169f01",
     "locked": true,
     "schema_version": 3,
     "solution": false,
     "task": false
    }
   },
   "source": [
    "### 2e. Leverage [Peer Review]\n",
    "\n",
    "Plot the *leverage* vs. the square of the residual.\n",
    "\n",
    "These resources might be helpful    \n",
    "- https://rpubs.com/Amrabdelhamed611/669768\n",
    "- https://www.statsmodels.org/dev/generated/statsmodels.graphics.regressionplots.plot_leverage_resid2.html"
   ]
  },
  {
   "cell_type": "code",
   "execution_count": 11,
   "metadata": {
    "deletable": false,
    "nbgrader": {
     "cell_type": "code",
     "checksum": "ea95ea232eeea5861a9228d0362fee40",
     "grade": false,
     "grade_id": "cell-ef11baefdcff42ae",
     "locked": false,
     "schema_version": 3,
     "solution": true,
     "task": false
    }
   },
   "outputs": [
    {
     "data": {
      "image/png": "[encoded data removed]",
      "text/plain": [
       "<Figure size 432x288 with 1 Axes>"
      ]
     },
     "metadata": {},
     "output_type": "display_data"
    }
   ],
   "source": [
    "# plot the leverage vs. the square of the residual\n",
    "# your code here\n",
    "sm.graphics.plot_leverage_resid2(model_multi)\n",
    "plt.show()"
   ]
  },
  {
   "cell_type": "code",
   "execution_count": null,
   "metadata": {
    "deletable": false,
    "nbgrader": {
     "cell_type": "code",
     "checksum": "4ffc57759fcc7aaa641d4c9f29792a01",
     "grade": false,
     "grade_id": "cell-ee3769e1988a26ba",
     "locked": false,
     "schema_version": 3,
     "solution": true,
     "task": false
    }
   },
   "outputs": [],
   "source": [
    "# you can use this cell to try different plots \n",
    "# your code here\n"
   ]
  },
  {
   "cell_type": "markdown",
   "metadata": {
    "deletable": false,
    "editable": false,
    "nbgrader": {
     "cell_type": "markdown",
     "checksum": "a1109f70cd913c619846729dbaea6dc2",
     "grade": false,
     "grade_id": "cell-0de43916d160a061",
     "locked": true,
     "schema_version": 3,
     "solution": false,
     "task": false
    }
   },
   "source": [
    "Upload your plot for this week's Peer Review assignment. If you tried out multiple models, upload a single model."
   ]
  },
  {
   "cell_type": "markdown",
   "metadata": {
    "deletable": false,
    "editable": false,
    "nbgrader": {
     "cell_type": "markdown",
     "checksum": "4f2ab521eca2939f6be06b0324812089",
     "grade": false,
     "grade_id": "cell-36cc68329e51f35e",
     "locked": true,
     "schema_version": 3,
     "solution": false,
     "task": false
    }
   },
   "source": [
    "### 2f. Identify and Clean [5pts]\n",
    "\n",
    "The leverage *vs* residual plot indicates that some rows have high leverage but small residuals and others have high residual. The $R^2$ of the model is determined by the residual. The data is from the disputed 2000 election [where one county](https://en.wikipedia.org/wiki/2000_United_States_presidential_election_recount_in_Florida) caused significant issues.\n",
    "\n",
    "Display the *3 or more* rows for the points indicated having high leverage and/or high residual squared. You will use this to improve the model $R^2$.\n",
    "\n",
    "Name the list of indices for those high-leverage and/or high-residual points as `unusual`."
   ]
  },
  {
   "cell_type": "code",
   "execution_count": 17,
   "metadata": {
    "deletable": false,
    "nbgrader": {
     "cell_type": "code",
     "checksum": "49583c6c1bd160606c55538ed81cda65",
     "grade": false,
     "grade_id": "cell-86a3970d8f212d25",
     "locked": false,
     "schema_version": 3,
     "solution": true,
     "task": false
    }
   },
   "outputs": [],
   "source": [
    "# uncomment and fill unusual with list of indices for high-leverage and/or high-residual points\n",
    "# unusual = []\n",
    "# your code here\n",
    "\n",
    "unusual = [49, 51, 5, 42]"
   ]
  },
  {
   "cell_type": "code",
   "execution_count": null,
   "metadata": {
    "deletable": false,
    "editable": false,
    "nbgrader": {
     "cell_type": "code",
     "checksum": "8640ed3902ec093d908ae2a9e59d564b",
     "grade": true,
     "grade_id": "cell-371a2f9390cc1bac",
     "locked": true,
     "points": 5,
     "schema_version": 3,
     "solution": false,
     "task": false
    }
   },
   "outputs": [],
   "source": [
    "# tests your list of indices for high-leverage and/or high-residual points "
   ]
  },
  {
   "cell_type": "markdown",
   "metadata": {
    "deletable": false,
    "editable": false,
    "nbgrader": {
     "cell_type": "markdown",
     "checksum": "20911234c5ee4bb73c6f0162a584c89b",
     "grade": false,
     "grade_id": "cell-92e61512d63f64b4",
     "locked": true,
     "schema_version": 3,
     "solution": false,
     "task": false
    }
   },
   "source": [
    "### 2g. Final model [5 pts]\n",
    "\n",
    "Develop your final model by dropping *one or more* of the troublesome data points indicated in the leverage *vs* residual plot and insuring any interactions in your model are still significant at $p=0.05$. Your model should have an $R^2$ great than 0.95. Call your model `model_final`."
   ]
  },
  {
   "cell_type": "code",
   "execution_count": 21,
   "metadata": {
    "deletable": false,
    "nbgrader": {
     "cell_type": "code",
     "checksum": "cee47438644e06f44f3855e40d2aa42f",
     "grade": false,
     "grade_id": "cell-e44af38914a74eca",
     "locked": false,
     "schema_version": 3,
     "solution": true,
     "task": false
    },
    "scrolled": false
   },
   "outputs": [
    {
     "name": "stdout",
     "output_type": "stream",
     "text": [
      "                            OLS Regression Results                            \n",
      "==============================================================================\n",
      "Dep. Variable:                   Bush   R-squared:                       0.969\n",
      "Model:                            OLS   Adj. R-squared:                  0.964\n",
      "Method:                 Least Squares   F-statistic:                     209.6\n",
      "Date:                Sat, 30 Nov 2024   Prob (F-statistic):           3.25e-33\n",
      "Time:                        21:14:29   Log-Likelihood:                -555.59\n",
      "No. Observations:                  55   AIC:                             1127.\n",
      "Df Residuals:                      47   BIC:                             1143.\n",
      "Df Model:                           7                                         \n",
      "Covariance Type:            nonrobust                                         \n",
      "=======================================================================================\n",
      "                          coef    std err          t      P>|t|      [0.025      0.975]\n",
      "---------------------------------------------------------------------------------------\n",
      "Intercept           -3583.1907   1934.876     -1.852      0.070   -7475.660     309.278\n",
      "Gore                    1.0517      0.294      3.582      0.001       0.461       1.642\n",
      "Nader                   8.4330      6.554      1.287      0.205      -4.753      21.619\n",
      "Gore:Nader             -0.0003   9.21e-05     -3.137      0.003      -0.000      -0.000\n",
      "Buchanan               82.6995     22.769      3.632      0.001      36.894     128.505\n",
      "Gore:Buchanan          -0.0002      0.001     -0.301      0.764      -0.001       0.001\n",
      "Nader:Buchanan         -0.0388      0.020     -1.944      0.058      -0.079       0.001\n",
      "Gore:Nader:Buchanan  6.617e-07   2.22e-07      2.976      0.005    2.14e-07    1.11e-06\n",
      "==============================================================================\n",
      "Omnibus:                        9.801   Durbin-Watson:                   1.944\n",
      "Prob(Omnibus):                  0.007   Jarque-Bera (JB):               11.249\n",
      "Skew:                           0.691   Prob(JB):                      0.00361\n",
      "Kurtosis:                       4.731   Cond. No.                     1.26e+11\n",
      "==============================================================================\n",
      "\n",
      "Warnings:\n",
      "[1] Standard Errors assume that the covariance matrix of the errors is correctly specified.\n",
      "[2] The condition number is large, 1.26e+11. This might indicate that there are\n",
      "strong multicollinearity or other numerical problems.\n"
     ]
    }
   ],
   "source": [
    "# develop your model_final here\n",
    "# model_final = \n",
    "# your code here\n",
    "unusual = [5, 42, 35, 63]\n",
    "cleaned = votes.drop(unusual)\n",
    "model_final = smf.ols(\"Bush ~ Gore + Buchanan + Gore:Nader + Nader:Buchanan\", data = cleaned).fit()\n",
    "print(model_final.summary())"
   ]
  },
  {
   "cell_type": "code",
   "execution_count": 44,
   "metadata": {
    "deletable": false,
    "editable": false,
    "nbgrader": {
     "cell_type": "code",
     "checksum": "0998aa6a3e2d69f7c3f8860187436a84",
     "grade": true,
     "grade_id": "cell-9020c6d93ec1e5ff",
     "locked": true,
     "points": 5,
     "schema_version": 3,
     "solution": false,
     "task": false
    }
   },
   "outputs": [],
   "source": [
    "# tests model_final"
   ]
  },
  {
   "cell_type": "markdown",
   "metadata": {
    "deletable": false,
    "editable": false,
    "nbgrader": {
     "cell_type": "markdown",
     "checksum": "ba3301db38167d7f5d60a9ad16e9f3bf",
     "grade": false,
     "grade_id": "cell-aaa41e66895bed82",
     "locked": true,
     "schema_version": 3,
     "solution": false,
     "task": false
    }
   },
   "source": [
    "\n",
    "## 3. Body Mass Index Model [20 points, Peer Review]"
   ]
  },
  {
   "cell_type": "markdown",
   "metadata": {
    "deletable": false,
    "editable": false,
    "nbgrader": {
     "cell_type": "markdown",
     "checksum": "d34d6b307eda25bb4b005ddaaeffeb92",
     "grade": false,
     "grade_id": "cell-e0a612fa6afff5b7",
     "locked": true,
     "schema_version": 3,
     "solution": false,
     "task": false
    }
   },
   "source": [
    "In this problem, you will first clean a data set and create a model to estimate body fat based on the common BMI measure. Then, you will use the **forward stepwise selection** method to create more accurate predictors for body fat.\n",
    "\n",
    "The body density dataset in file `bodyfat` includes the following 15 variables listed from left to right:\n",
    "* Density : Density determined from underwater weighing\n",
    "* Fat : Percent body fat from Siri’s (1956) equation\n",
    "* Age : Age (years)\n",
    "* Weight : Weight (kg)\n",
    "* Height : Height (cm)\n",
    "* Neck : Neck circumference (cm)\n",
    "* Chest: Chest circumference (cm)\n",
    "* Abdomen : Abdomen circumference (cm)\n",
    "* Hip : Hip circumference (cm)\n",
    "* Thigh : Thigh circumference (cm)\n",
    "* Knee : Knee circumference (cm)\n",
    "* Ankle : Ankle circumference (cm)\n",
    "* Biceps : Biceps (extended) circumference (cm)\n",
    "* Forearm : Forearm circumference (cm)\n",
    "* Wrist : Wrist circumference (cm)\n",
    "\n",
    "The `Density` column is the \"gold standard\" -- it is a measure of body density obtained by dunking people in water and measuring the displacement. The `Fat` column is a prediction using another statistical model. The body mass index (BMI) is [calculated as Kg/m^2](https://en.wikipedia.org/wiki/Body_mass_index) and is used to classify people into different weight categories with a [BMI over 30 being 'obese'](https://www.medicalnewstoday.com/info/obesity). You will find that BMI is a poor predictor of the `Density` information it purports to predict. You will try to find better models using measurements and regression.\n",
    "\n",
    "Unfortunately for us, the dataset we have has imperial units for weight and height, so we will convert those to metric and then calculate the BMI and plot the KDE of the data."
   ]
  },
  {
   "cell_type": "code",
   "execution_count": 27,
   "metadata": {
    "deletable": false,
    "editable": false,
    "nbgrader": {
     "cell_type": "code",
     "checksum": "abbebf927df5eeb0b1be132a5eb82741",
     "grade": false,
     "grade_id": "cell-c1702a843e3fb544",
     "locked": true,
     "schema_version": 3,
     "solution": false,
     "task": false
    }
   },
   "outputs": [
    {
     "data": {
      "image/png": "[encoded data removed]",
      "text/plain": [
       "<Figure size 432x288 with 1 Axes>"
      ]
     },
     "metadata": {},
     "output_type": "display_data"
    }
   ],
   "source": [
    "fat = pd.read_csv('data/bodyfat.csv')\n",
    "fat = fat.drop('Unnamed: 0', axis=1)\n",
    "fat.Weight = fat.Weight * 0.453592 # Convert to Kg\n",
    "fat.Height = fat.Height * 0.0254 # convert inches to m\n",
    "fat['BMI'] = fat.Weight / (fat.Height**2)\n",
    "fat.BMI.plot.kde();"
   ]
  },
  {
   "cell_type": "markdown",
   "metadata": {
    "deletable": false,
    "editable": false,
    "nbgrader": {
     "cell_type": "markdown",
     "checksum": "8550853b789cd652d5fd5158f3a58b14",
     "grade": false,
     "grade_id": "cell-ce6b7bb9427aa898",
     "locked": true,
     "schema_version": 3,
     "solution": false,
     "task": false
    }
   },
   "source": [
    "### 3a. [5 pts]\n",
    "The BMI has at least one outlier since it's unlikely anyone has a BMI of 165, even [Arnold Schwarzenegger](http://www.health.com/health/gallery/0,,20460621,00.html).\n",
    "\n",
    "Form a new table `cfat` (cleaned fat) that removes any rows with a BMI greater than 40 and calculate the regression model predicting the `Density` from the `BMI`. Display the summary of the regression model. Call your model as `bmi`. You should achieve an $R^2$ of at least 0.53."
   ]
  },
  {
   "cell_type": "code",
   "execution_count": 28,
   "metadata": {
    "deletable": false,
    "nbgrader": {
     "cell_type": "code",
     "checksum": "9a989034d531571a7081f4bafefb65a8",
     "grade": false,
     "grade_id": "cell-8d4f2e33481cd87a",
     "locked": false,
     "schema_version": 3,
     "solution": true,
     "task": false
    }
   },
   "outputs": [],
   "source": [
    "# form new table cfat and model bmi\n",
    "# cfat = \n",
    "# bmi = \n",
    "# your code here\n",
    "cfat = fat[fat['BMI'] <= 40]\n",
    "\n",
    "# Calculate the regression model predicting Density from BMI using smf.ols\n",
    "bmi = smf.ols('Density ~ BMI', data=cfat).fit()"
   ]
  },
  {
   "cell_type": "code",
   "execution_count": null,
   "metadata": {
    "deletable": false,
    "editable": false,
    "nbgrader": {
     "cell_type": "code",
     "checksum": "714dea913dae8e58616d084c59533edc",
     "grade": true,
     "grade_id": "cell-aa74523671aef549",
     "locked": true,
     "points": 5,
     "schema_version": 3,
     "solution": false,
     "task": false
    }
   },
   "outputs": [],
   "source": [
    "# tests your bmi model "
   ]
  },
  {
   "cell_type": "markdown",
   "metadata": {
    "deletable": false,
    "editable": false,
    "nbgrader": {
     "cell_type": "markdown",
     "checksum": "059cd2984bb14fc6a468cb93c33b67c4",
     "grade": false,
     "grade_id": "cell-dcbbddf49b488ed2",
     "locked": true,
     "schema_version": 3,
     "solution": false,
     "task": false
    }
   },
   "source": [
    "### 3b. [Peer Review]\n",
    "Plot your regression model against the BMI measurement, properly labeling the scatterplot axes and showing the regression line. In subsequent models, you will not be able to plot the Density *vs* your predictors because you will have too many predictors, but it's useful to visually understand the relationship between the BMI predictor and the `Density` because you should find that the regression line goes through the data but there is too much variability in the data to achieve a good $R^2$.\n",
    "Upload a copy or screensho of your plot for this week's Peer Review assignment. "
   ]
  },
  {
   "cell_type": "code",
   "execution_count": 15,
   "metadata": {
    "deletable": false,
    "nbgrader": {
     "cell_type": "code",
     "checksum": "de3be70195cd8940e2307d82b09bb9c6",
     "grade": false,
     "grade_id": "cell-d0c9f3ade1d75f1a",
     "locked": false,
     "schema_version": 3,
     "solution": true,
     "task": false
    }
   },
   "outputs": [
    {
     "data": {
      "image/png": "[encoded data removed]",
      "text/plain": [
       "<Figure size 720x432 with 1 Axes>"
      ]
     },
     "metadata": {},
     "output_type": "display_data"
    }
   ],
   "source": [
    "# plot regression model against BMI measurement\n",
    "# properly label the scatterplot axs and show the regression line\n",
    "# your code here\n",
    "plt.figure(figsize=(10, 6))\n",
    "sns.scatterplot(data=cfat, x='BMI', y='Density', alpha=0.5)\n",
    "sns.regplot(data=cfat, x='BMI', y='Density', scatter=False, color='red')\n",
    "plt.title('Body Density vs BMI with Regression Line')\n",
    "plt.xlabel('BMI (kg/m²)')\n",
    "plt.ylabel('Density (g/cm³)')\n",
    "plt.show()"
   ]
  },
  {
   "cell_type": "markdown",
   "metadata": {
    "deletable": false,
    "editable": false,
    "nbgrader": {
     "cell_type": "markdown",
     "checksum": "5f010f2bc1083261d56a9682bc987e5e",
     "grade": false,
     "grade_id": "cell-cce39b340a979434",
     "locked": true,
     "schema_version": 3,
     "solution": false,
     "task": false
    }
   },
   "source": [
    " The `BMI` model uses easy-to-measure predictors, but has a poor $R^2 \\sim 0.54$. We will use structured subset selection methods from ISLR Chapter 6.1 to derive two better predictors. That chapter covers *best subset*, *forward stepwise* and *backware stepwise* selection. I have implemented the *best subset* selection which searches across all combinations of $1, 2, \\ldots, p$ predictors and selects the best predictor based on the $\\textit{adjusted}~R^2$ metric. This method involved analyzing $2^{13} = 8192$ regression models (programming and computers for the win). The resulting $\\textit{adjusted}~R^2$ plot is shown below (Since the data split can be different, your result may look slightly different):\n",
    " \n",
    " <img src='fat-best-rsqadj.png'>\n",
    " \n",
    "In this plot, `test_fat` and `train_fat` datasets each containing 200 randomly selected samples were derived from the `cfat` dataset using `np.random.choice` over the `cfat.index` and selected using the Pandas `loc` method. Then, following the algorithm of ISLR Algorithm 6.1 *Best Subset Selection*, all $p \\choose k$ models with $k$ predictors were evaluated on the training data and the model returning the best $\\textit{Adjusted}~R^2$ was selected. These models are indicated by the data points for the solid blue line. As the text indicates, other measures (AIC, BIC, $C_p$) would be better than the $\\textit{Adjusted}~R^2$, but we use it becuase because you've already seen the $R^2$ and should have an understanding of what it means.\n",
    "\n",
    "Then, the best models for each $k$ were evaluated for the `test_fat` data. These results are shown as the red dots below the blue line. Note that because the test and train datasets are randomly selected subsets, the results vary from run-to-run and it may that your test data produces better $R^2$ than your training data.\n",
    "\n",
    "In the following exercises, you can not use the `Density`, `Fat` or `BMI` columns in your predictive models. You can only use the 13 predictors in the `allowed_factors` list."
   ]
  },
  {
   "cell_type": "code",
   "execution_count": 24,
   "metadata": {
    "deletable": false,
    "editable": false,
    "nbgrader": {
     "cell_type": "code",
     "checksum": "58fb469514a139386f9ab0b11eb5987e",
     "grade": false,
     "grade_id": "cell-1d56e6ab9fac5370",
     "locked": true,
     "schema_version": 3,
     "solution": false,
     "task": false
    }
   },
   "outputs": [],
   "source": [
    "allowed_factors = ['Age', 'Weight', 'Height', 'Neck', 'Chest',\n",
    "       'Abdomen', 'Hip', 'Thigh', 'Knee', 'Ankle', 'Biceps', 'Forearm',\n",
    "       'Wrist']"
   ]
  },
  {
   "cell_type": "markdown",
   "metadata": {
    "deletable": false,
    "editable": false,
    "nbgrader": {
     "cell_type": "markdown",
     "checksum": "800ff145f89c12e9eaff9ca004242fe4",
     "grade": false,
     "grade_id": "cell-edb9411d1ec54550",
     "locked": true,
     "schema_version": 3,
     "solution": false,
     "task": false
    }
   },
   "source": [
    "## Forward Stepwise Refinement"
   ]
  },
  {
   "cell_type": "markdown",
   "metadata": {
    "deletable": false,
    "editable": false,
    "nbgrader": {
     "cell_type": "markdown",
     "checksum": "74d464e8f0d0634c91bf1ea0ca64f373",
     "grade": false,
     "grade_id": "cell-3a584210ba67dbdc",
     "locked": true,
     "schema_version": 3,
     "solution": false,
     "task": false
    }
   },
   "source": [
    "You will manually perform the steps of the *forward stepwise selection* method for four parameters. You will do this following Algorithm 6.2 from ISLR. For $k = 1\\ldots 4$:\n",
    "* Set up a regression model with $k$ factors that involves the fixed predictors from the previous step $k-1$\n",
    "* Try all $p$ predictors in the new $k$th position\n",
    "* Select the best parameter using $\\textit{Adjusted}-R^2$ (e.g. `model.rsquared_adj`) given your training data\n",
    "* Fix the new parameter and continue the process for $k+1$\n",
    "\n",
    "Then, you will construct a plot similar to the one above, plotting the $\\textit{Adjusted}-R^2$ for each of your $k$ steps and plotting the $\\textit{Adjusted}-R^2$ from the test set using that model."
   ]
  },
  {
   "cell_type": "markdown",
   "metadata": {
    "deletable": false,
    "editable": false,
    "nbgrader": {
     "cell_type": "markdown",
     "checksum": "0eb7bd586e2532b4441455ffea847c96",
     "grade": false,
     "grade_id": "cell-935c52c843c6c61c",
     "locked": true,
     "schema_version": 3,
     "solution": false,
     "task": false
    }
   },
   "source": [
    "### 3c. [5 pts]\n",
    "First, construct your training and test sets from your `cfat` dataset. Call the resulting data frame to train_fat and test_fat. train_fat includes randomly selected 125 observations and the test_fat has the rest.\n",
    "\n",
    "Note: Set **random_state = 0** in sklearn's split function"
   ]
  },
  {
   "cell_type": "code",
   "execution_count": 29,
   "metadata": {
    "deletable": false,
    "nbgrader": {
     "cell_type": "code",
     "checksum": "b8e2e7e3b3c238091e2a2a1fc46ed153",
     "grade": false,
     "grade_id": "cell-0d264dd9fa39a3c6",
     "locked": false,
     "schema_version": 3,
     "solution": true,
     "task": false
    }
   },
   "outputs": [],
   "source": [
    "# construct train_fat and test_fat from cfat dataset \n",
    "# your code here\n",
    "train_idx = np.random.choice(cfat.index, size=125, replace=False)\n",
    "train_fat = cfat.loc[train_idx]\n",
    "test_fat = cfat.loc[~cfat.index.isin(train_idx)]"
   ]
  },
  {
   "cell_type": "code",
   "execution_count": null,
   "metadata": {
    "deletable": false,
    "editable": false,
    "nbgrader": {
     "cell_type": "code",
     "checksum": "03a442d106b1296488fe77cc4f3b8c21",
     "grade": true,
     "grade_id": "cell-8891dbeb743bcd14",
     "locked": true,
     "points": 5,
     "schema_version": 3,
     "solution": false,
     "task": false
    }
   },
   "outputs": [],
   "source": [
    "# tests your training and test sets "
   ]
  },
  {
   "cell_type": "markdown",
   "metadata": {
    "deletable": false,
    "editable": false,
    "nbgrader": {
     "cell_type": "markdown",
     "checksum": "1e3c4c3cf91f57b05659f8e60e1d59bf",
     "grade": false,
     "grade_id": "cell-1417b71024495889",
     "locked": true,
     "schema_version": 3,
     "solution": false,
     "task": false
    }
   },
   "source": [
    "### 3d. Conduct the algorithm above for $k=1$, leaving your best solution as the answer [5 pts]\n",
    "Call your resulting model `train_bmi1`."
   ]
  },
  {
   "cell_type": "code",
   "execution_count": 30,
   "metadata": {
    "deletable": false,
    "editable": false,
    "nbgrader": {
     "cell_type": "code",
     "checksum": "f205041286df71c59acee817abca7820",
     "grade": false,
     "grade_id": "cell-c968f5bc7b9e363c",
     "locked": true,
     "schema_version": 3,
     "solution": false,
     "task": false
    }
   },
   "outputs": [
    {
     "name": "stdout",
     "output_type": "stream",
     "text": [
      "Age 0.10786159905032455\n",
      "Weight 0.28005576118301845\n",
      "Height 0.001874444322373714\n",
      "Neck 0.13789063747535746\n",
      "Chest 0.35857924463488333\n",
      "Abdomen 0.575152345078821\n",
      "Hip 0.3250813822257701\n",
      "Thigh 0.2721851796407764\n",
      "Knee 0.22286270166757916\n",
      "Ankle 0.09084961362786226\n",
      "Biceps 0.19476748885530382\n",
      "Forearm 0.09238077670247724\n",
      "Wrist 0.07872269180384162\n",
      "best: ['Abdomen', 0.575152345078821]\n"
     ]
    }
   ],
   "source": [
    "best = ['',0]\n",
    "for p in allowed_factors:\n",
    "    model  = smf.ols(formula='Density~'+p, data=train_fat).fit()\n",
    "    print(p, model.rsquared)\n",
    "    if model.rsquared>best[1]:\n",
    "        best = [p, model.rsquared]\n",
    "print('best:',best)"
   ]
  },
  {
   "cell_type": "code",
   "execution_count": 31,
   "metadata": {
    "deletable": false,
    "nbgrader": {
     "cell_type": "code",
     "checksum": "f40e751b05ac46dbc738c65b1016e193",
     "grade": false,
     "grade_id": "cell-b653a38505843acf",
     "locked": false,
     "schema_version": 3,
     "solution": true,
     "task": false
    }
   },
   "outputs": [],
   "source": [
    "# uncomment and update your solution \n",
    "# train_bmi1 = \n",
    "\n",
    "# your code here\n",
    "best = ['', 0]\n",
    "for p in allowed_factors:\n",
    "    model = smf.ols(formula=f'Density ~ {p}', data=train_fat).fit()\n",
    "    if model.rsquared > best[1]:\n",
    "        best = [p, model.rsquared]\n",
    "train_bmi1 = smf.ols(f'Density ~ {best[0]}', data=train_fat).fit()"
   ]
  },
  {
   "cell_type": "code",
   "execution_count": null,
   "metadata": {
    "deletable": false,
    "editable": false,
    "nbgrader": {
     "cell_type": "code",
     "checksum": "92255eb2a0660046e3c000e99000e2f8",
     "grade": true,
     "grade_id": "cell-70be923706ef2bba",
     "locked": true,
     "points": 5,
     "schema_version": 3,
     "solution": false,
     "task": false
    }
   },
   "outputs": [],
   "source": [
    "# tests train_bmi1 model "
   ]
  },
  {
   "cell_type": "markdown",
   "metadata": {
    "deletable": false,
    "editable": false,
    "nbgrader": {
     "cell_type": "markdown",
     "checksum": "ba7ebfb99efed0f1c5863b4c6223f38d",
     "grade": false,
     "grade_id": "cell-b8a4543e21990a4e",
     "locked": true,
     "schema_version": 3,
     "solution": false,
     "task": false
    }
   },
   "source": [
    "### 3e. Conduct the algorithm above for $k=2$, leaving your best solution as the answer [Peer Review]\n",
    "Name your model object as `train_bmi2`.<br>\n",
    "Look at this week's Peer Review assignment for questions about $k=2$ through $k=5$. "
   ]
  },
  {
   "cell_type": "code",
   "execution_count": 32,
   "metadata": {
    "deletable": false,
    "nbgrader": {
     "cell_type": "code",
     "checksum": "06cda9d0a1a81c337fb14831e60acfbf",
     "grade": false,
     "grade_id": "cell-c1bb769fe2f4652a",
     "locked": false,
     "schema_version": 3,
     "solution": true,
     "task": false
    }
   },
   "outputs": [
    {
     "name": "stdout",
     "output_type": "stream",
     "text": [
      "                            OLS Regression Results                            \n",
      "==============================================================================\n",
      "Dep. Variable:                Density   R-squared:                       0.647\n",
      "Model:                            OLS   Adj. R-squared:                  0.641\n",
      "Method:                 Least Squares   F-statistic:                     111.9\n",
      "Date:                Sat, 30 Nov 2024   Prob (F-statistic):           2.50e-28\n",
      "Time:                        21:58:49   Log-Likelihood:                 384.10\n",
      "No. Observations:                 125   AIC:                            -762.2\n",
      "Df Residuals:                     122   BIC:                            -753.7\n",
      "Df Model:                           2                                         \n",
      "Covariance Type:            nonrobust                                         \n",
      "==============================================================================\n",
      "                 coef    std err          t      P>|t|      [0.025      0.975]\n",
      "------------------------------------------------------------------------------\n",
      "Intercept      1.2030      0.010    123.454      0.000       1.184       1.222\n",
      "Abdomen       -0.0023      0.000    -11.268      0.000      -0.003      -0.002\n",
      "Weight         0.0008      0.000      4.993      0.000       0.001       0.001\n",
      "==============================================================================\n",
      "Omnibus:                        1.862   Durbin-Watson:                   1.936\n",
      "Prob(Omnibus):                  0.394   Jarque-Bera (JB):                1.366\n",
      "Skew:                           0.211   Prob(JB):                        0.505\n",
      "Kurtosis:                       3.291   Cond. No.                     1.19e+03\n",
      "==============================================================================\n",
      "\n",
      "Warnings:\n",
      "[1] Standard Errors assume that the covariance matrix of the errors is correctly specified.\n",
      "[2] The condition number is large, 1.19e+03. This might indicate that there are\n",
      "strong multicollinearity or other numerical problems.\n"
     ]
    }
   ],
   "source": [
    "# your code here\n",
    "\n",
    "# train_bmi2 = \n",
    "\n",
    "previous_predictors = train_bmi1.model.exog_names[1:]\n",
    "best = ['', 0]\n",
    "remaining_predictors = [p for p in allowed_factors if p not in previous_predictors]\n",
    "\n",
    "for p in remaining_predictors:\n",
    "    formula = f'Density ~ {\" + \".join(previous_predictors + [p])}'\n",
    "    model = smf.ols(formula=formula, data=train_fat).fit()\n",
    "    if model.rsquared > best[1]:\n",
    "        best = [p, model.rsquared]\n",
    "train_bmi2 = smf.ols(f'Density ~ {\" + \".join(previous_predictors + [best[0]])}', data=train_fat).fit()\n",
    "print(train_bmi2.summary())"
   ]
  },
  {
   "cell_type": "markdown",
   "metadata": {
    "deletable": false,
    "editable": false,
    "nbgrader": {
     "cell_type": "markdown",
     "checksum": "6dc65243db88c57ade297d5d0297432c",
     "grade": false,
     "grade_id": "cell-c01c83243d830766",
     "locked": true,
     "schema_version": 3,
     "solution": false,
     "task": false
    }
   },
   "source": [
    "### 3f. Conduct the algorithm above for $k=3$, leaving your best solution as the answer [Peer Review]"
   ]
  },
  {
   "cell_type": "code",
   "execution_count": 34,
   "metadata": {
    "deletable": false,
    "nbgrader": {
     "cell_type": "code",
     "checksum": "8fcc079c84b8b0c596ead094a5dd4036",
     "grade": false,
     "grade_id": "cell-4291b82327d46a06",
     "locked": false,
     "schema_version": 3,
     "solution": true,
     "task": false
    }
   },
   "outputs": [],
   "source": [
    "# your code here\n",
    "\n",
    "# train_bmi3 = \n",
    "\n",
    "previous_predictors = train_bmi2.model.exog_names[1:]\n",
    "best = ['', 0]\n",
    "remaining_predictors = [p for p in allowed_factors if p not in previous_predictors]\n",
    "\n",
    "for p in remaining_predictors:\n",
    "    formula = f'Density ~ {\" + \".join(previous_predictors + [p])}'\n",
    "    model = smf.ols(formula=formula, data=train_fat).fit()\n",
    "    if model.rsquared > best[1]:\n",
    "        best = [p, model.rsquared]\n",
    "train_bmi3 = smf.ols(f'Density ~ {\" + \".join(previous_predictors + [best[0]])}', data=train_fat).fit()"
   ]
  },
  {
   "cell_type": "markdown",
   "metadata": {
    "deletable": false,
    "editable": false,
    "nbgrader": {
     "cell_type": "markdown",
     "checksum": "5ed7d175c220a1e949f4f3fc735d109a",
     "grade": false,
     "grade_id": "cell-a65e999c326a5638",
     "locked": true,
     "schema_version": 3,
     "solution": false,
     "task": false
    }
   },
   "source": [
    "### 3g. Conduct the algorithm above for $k=4$, leaving your best solution as the answer [Peer Review]"
   ]
  },
  {
   "cell_type": "code",
   "execution_count": 35,
   "metadata": {
    "deletable": false,
    "nbgrader": {
     "cell_type": "code",
     "checksum": "33b029c381341908d29ea3ea3e099c28",
     "grade": false,
     "grade_id": "cell-9338360b551afae7",
     "locked": false,
     "schema_version": 3,
     "solution": true,
     "task": false
    }
   },
   "outputs": [],
   "source": [
    "# your code here\n",
    "\n",
    "# train_bmi4 = \n",
    "\n",
    "previous_predictors = train_bmi3.model.exog_names[1:]\n",
    "best = ['', 0]\n",
    "remaining_predictors = [p for p in allowed_factors if p not in previous_predictors]\n",
    "\n",
    "for p in remaining_predictors:\n",
    "    formula = f'Density ~ {\" + \".join(previous_predictors + [p])}'\n",
    "    model = smf.ols(formula=formula, data=train_fat).fit()\n",
    "    if model.rsquared > best[1]:\n",
    "        best = [p, model.rsquared]\n",
    "train_bmi4 = smf.ols(f'Density ~ {\" + \".join(previous_predictors + [best[0]])}', data=train_fat).fit()"
   ]
  },
  {
   "cell_type": "markdown",
   "metadata": {
    "deletable": false,
    "editable": false,
    "nbgrader": {
     "cell_type": "markdown",
     "checksum": "5fb18e9e520ea2c3792c120072da73c2",
     "grade": false,
     "grade_id": "cell-a3566ec9e61c94fd",
     "locked": true,
     "schema_version": 3,
     "solution": false,
     "task": false
    }
   },
   "source": [
    "### 3h. Conduct the algorithm above for $k=5$, leaving your best solution as the answer [Peer Review]"
   ]
  },
  {
   "cell_type": "code",
   "execution_count": 36,
   "metadata": {
    "deletable": false,
    "nbgrader": {
     "cell_type": "code",
     "checksum": "23c03629d41b2b311820e860083e3946",
     "grade": false,
     "grade_id": "cell-8ce53b966f091dc0",
     "locked": false,
     "schema_version": 3,
     "solution": true,
     "task": false
    }
   },
   "outputs": [
    {
     "name": "stdout",
     "output_type": "stream",
     "text": [
      "                            OLS Regression Results                            \n",
      "==============================================================================\n",
      "Dep. Variable:                Density   R-squared:                       0.686\n",
      "Model:                            OLS   Adj. R-squared:                  0.673\n",
      "Method:                 Least Squares   F-statistic:                     52.00\n",
      "Date:                Sat, 30 Nov 2024   Prob (F-statistic):           2.39e-28\n",
      "Time:                        21:59:21   Log-Likelihood:                 391.38\n",
      "No. Observations:                 125   AIC:                            -770.8\n",
      "Df Residuals:                     119   BIC:                            -753.8\n",
      "Df Model:                           5                                         \n",
      "Covariance Type:            nonrobust                                         \n",
      "==============================================================================\n",
      "                 coef    std err          t      P>|t|      [0.025      0.975]\n",
      "------------------------------------------------------------------------------\n",
      "Intercept      1.2109      0.030     40.807      0.000       1.152       1.270\n",
      "Abdomen       -0.0024      0.000    -11.706      0.000      -0.003      -0.002\n",
      "Weight         0.0011      0.000      4.285      0.000       0.001       0.002\n",
      "Thigh         -0.0009      0.000     -2.405      0.018      -0.002      -0.000\n",
      "Wrist          0.0031      0.002      1.990      0.049    1.58e-05       0.006\n",
      "Forearm       -0.0010      0.001     -1.405      0.163      -0.002       0.000\n",
      "==============================================================================\n",
      "Omnibus:                        0.600   Durbin-Watson:                   1.990\n",
      "Prob(Omnibus):                  0.741   Jarque-Bera (JB):                0.725\n",
      "Skew:                           0.073   Prob(JB):                        0.696\n",
      "Kurtosis:                       2.657   Cond. No.                     4.33e+03\n",
      "==============================================================================\n",
      "\n",
      "Warnings:\n",
      "[1] Standard Errors assume that the covariance matrix of the errors is correctly specified.\n",
      "[2] The condition number is large, 4.33e+03. This might indicate that there are\n",
      "strong multicollinearity or other numerical problems.\n"
     ]
    }
   ],
   "source": [
    "# your code here\n",
    "\n",
    "# train_bmi5 = \n",
    "\n",
    "previous_predictors = train_bmi4.model.exog_names[1:]\n",
    "best = ['', 0]\n",
    "remaining_predictors = [p for p in allowed_factors if p not in previous_predictors]\n",
    "\n",
    "for p in remaining_predictors:\n",
    "    formula = f'Density ~ {\" + \".join(previous_predictors + [p])}'\n",
    "    model = smf.ols(formula=formula, data=train_fat).fit()\n",
    "    if model.rsquared > best[1]:\n",
    "        best = [p, model.rsquared]\n",
    "train_bmi5 = smf.ols(f'Density ~ {\" + \".join(previous_predictors + [best[0]])}', data=train_fat).fit()\n",
    "print(train_bmi5.summary())"
   ]
  },
  {
   "cell_type": "markdown",
   "metadata": {
    "deletable": false,
    "editable": false,
    "nbgrader": {
     "cell_type": "markdown",
     "checksum": "dde7b8cb6ae4fcb0c2e153ab619563f4",
     "grade": false,
     "grade_id": "cell-c97e8cf99ad0752c",
     "locked": true,
     "schema_version": 3,
     "solution": false,
     "task": false
    }
   },
   "source": [
    "### 3i. Plot [5 pts]\n",
    "Plot your resulting $\\textit{adjusted}~R^2$ *vs* number of predictors (k=1,2,3,4,5) and overlay the $\\textit{adjusted}~R^2$ for the test data. Call the list of the five adjusted r-squared values from the five train_bmi# models as `adjr2_train` and the one from the test data as `adjr2_test`."
   ]
  },
  {
   "cell_type": "code",
   "execution_count": 31,
   "metadata": {
    "deletable": false,
    "nbgrader": {
     "cell_type": "code",
     "checksum": "828928fc6a49f4d0ce213624709fc37b",
     "grade": false,
     "grade_id": "cell-5a4df8b7ac835693",
     "locked": false,
     "schema_version": 3,
     "solution": true,
     "task": false
    }
   },
   "outputs": [
    {
     "data": {
      "image/png": "[encoded data removed]",
      "text/plain": [
       "<Figure size 720x432 with 1 Axes>"
      ]
     },
     "metadata": {},
     "output_type": "display_data"
    }
   ],
   "source": [
    "# plot resulting adjusted rsquared vs number of predictors (k=1,2,3,4,5)\n",
    "# overlay the adjusted rsquared for the test data \n",
    "# your code here\n",
    "adjr2_train = [\n",
    "    train_bmi1.rsquared_adj,\n",
    "    train_bmi2.rsquared_adj,\n",
    "    train_bmi3.rsquared_adj,\n",
    "    train_bmi4.rsquared_adj,\n",
    "    train_bmi5.rsquared_adj\n",
    "]\n",
    "adjr2_test = []\n",
    "for model in [train_bmi1, train_bmi2, train_bmi3, train_bmi4, train_bmi5]:\n",
    "    y_pred = model.predict(test_fat)\n",
    "    ss_tot = np.sum((test_fat['Density'] - np.mean(test_fat['Density']))**2)\n",
    "    ss_res = np.sum((test_fat['Density'] - y_pred)**2)\n",
    "    r2 = 1 - (ss_res/ss_tot)\n",
    "    n = len(test_fat)\n",
    "    p = len(model.params) - 1\n",
    "    adj_r2 = 1 - ((1-r2)*(n-1)/(n-p-1))\n",
    "    adjr2_test.append(adj_r2)\n",
    "plt.figure(figsize=(10, 6))\n",
    "plt.plot(range(1, 6), adjr2_train, 'b-', label='Training Data')\n",
    "plt.plot(range(1, 6), adjr2_train, 'bo')\n",
    "plt.plot(range(1, 6), adjr2_test, 'r--', label='Test Data')\n",
    "plt.plot(range(1, 6), adjr2_test, 'ro')\n",
    "\n",
    "\n",
    "plt.xlabel('Number of Predictors (k)')\n",
    "plt.ylabel('Adjusted R²')\n",
    "plt.title('Adjusted R² vs Number of Predictors')\n",
    "plt.grid(True)\n",
    "plt.legend()\n",
    "plt.xticks(range(1, 6))\n",
    "\n",
    "\n",
    "plt.show()"
   ]
  },
  {
   "cell_type": "code",
   "execution_count": null,
   "metadata": {
    "deletable": false,
    "editable": false,
    "nbgrader": {
     "cell_type": "code",
     "checksum": "9e4f0833530cd9432de6b26938a3585a",
     "grade": true,
     "grade_id": "cell-ee76423a1d5d1bc2",
     "locked": true,
     "points": 5,
     "schema_version": 3,
     "solution": false,
     "task": false
    }
   },
   "outputs": [],
   "source": [
    "# tests adjusted r-squared plot vs. number of factors "
   ]
  },
  {
   "cell_type": "markdown",
   "metadata": {
    "deletable": false,
    "editable": false,
    "nbgrader": {
     "cell_type": "markdown",
     "checksum": "9f44fec7c036f10bc7c2ef8c7ccf9a8e",
     "grade": false,
     "grade_id": "cell-ba314ee660e30e67",
     "locked": true,
     "schema_version": 3,
     "solution": false,
     "task": false
    }
   },
   "source": [
    "### 3j. Discussion [Peer Review]\n",
    "The BMI model has the benefit being simple (two measurements, height and wright). Looking at your resulting regression model, how many parameters would you suggest to use for your enhanced BMI model? Justify your answer using your models. Submit your answer with this week's Peer Review assignment. "
   ]
  }
 ],
 "metadata": {
  "kernelspec": {
   "display_name": "Python 3",
   "language": "python",
   "name": "python3"
  },
  "language_info": {
   "codemirror_mode": {
    "name": "ipython",
    "version": 3
   },
   "file_extension": ".py",
   "mimetype": "text/x-python",
   "name": "python",
   "nbconvert_exporter": "python",
   "pygments_lexer": "ipython3",
   "version": "3.7.6"
  }
 },
 "nbformat": 4,
 "nbformat_minor": 4
}
