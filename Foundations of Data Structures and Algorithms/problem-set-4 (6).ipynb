{
 "cells": [
  {
   "cell_type": "markdown",
   "metadata": {
    "deletable": false,
    "editable": false,
    "nbgrader": {
     "cell_type": "markdown",
     "checksum": "7625d35c9626fb8cb6c157fe83ca2dce",
     "grade": false,
     "grade_id": "cell-83efaf4bf0fe0cda",
     "locked": true,
     "schema_version": 3,
     "solution": false,
     "task": false
    }
   },
   "source": [
    "# Problem 1\n",
    "\n",
    "We saw how to solve TSPs in this module and in particular presented two approaches to encode a TSP as an integer linear program. In this problem, we will ask you to adapt the TSP solution to the related problem of $k$ Travelling Salespeople Problem ($k$-TSP).\n",
    "\n",
    "Let $G$ be a complete graph with $n$ vertices that we will label $0, \\ldots, n-1$ (keeping Python array indexing in mind). Our costs are specified using a matrix $C$ wherein $C_{i,j}$ is the cost of the edge from vertex $i$ to $j$ for $i \\not= j$.\n",
    "\n",
    "In this problem, we have $k \\geq 1$ salespeople who must  start from vertex $0$ of the graph (presumably the location of the sales office) and together visit every location in the graph,  each returning back to vertex $0$. Each location must be visited exactly once by some salesperson in the team. Therefore, other than vertex $0$ (the start/end vertex of every salesperson's tour), no two salesperson tours have a vertex in common. Notice that for $k=1$, this is just the regular TSP problem we have studied. \n",
    "\n",
    "Also, all $k$ salespeople must be employed in the tour. In other words, if we have $k=3$ then each salesperson must start at $0$ and visit a sequence of one or more vertices and come back to $0$. No salesperson can be \"idle\".\n",
    "\n",
    "## Example-1\n",
    "\n",
    "Consider a graph with $5$ nodes and the following cost matrix:\n",
    "\n",
    "$$ \\begin{array}{c|ccccc}\n",
    "  \\text{Vertices} & 0 & 1 & 2 & 3 & 4 \\\\ \n",
    "   \\hline\n",
    " 0 & - & 3 & 4 & 3 & 5 \\\\ \n",
    " 1 & 1 & - & 2 & 4 & 1 \\\\ \n",
    " 2 & 2 & 1 & - & 5 & 4 \\\\ \n",
    " 3 & 1 & 1 & 5 & - & 4 \\\\ \n",
    " 4 & 2 & 1 & 3 & 5 & - \\\\ \n",
    " \\end{array}$$\n",
    " \n",
    " For instance $C_{2,3}$ the cost of edge from vertex $2$ to $3$ is $5$. The $-$ in the diagonal entries simply tells us that we do not care what goes in there since we do not have self-loops in the graph.\n",
    " \n",
    "The optimal $2$-TSP tour for $k=2$ salespeople is shown below.\n",
    "  - Salesperson # 1: $0 \\rightarrow 2 \\rightarrow 1 \\rightarrow 4 \\rightarrow 0$.\n",
    "  - Salesperson # 2: $0 \\rightarrow 3 \\rightarrow 0$.\n",
    "  \n",
    "The total cost of the edges traversed by the two salespeople equals $12$.\n",
    "\n",
    "For $k=3$, the optimal $3-$ TSP tour is as shown below.\n",
    "  - Salesperson # 1: $0 \\rightarrow 1 \\rightarrow 4$, \n",
    "  - Salesperson # 2: $0 \\rightarrow 2$, \n",
    "  - Salesperson # 3: $0 \\rightarrow 3$.\n",
    "\n",
    "The total cost is $16$.\n",
    "\n",
    "The objective of this problem is to formulate an ILP using the MTZ approach."
   ]
  },
  {
   "cell_type": "markdown",
   "metadata": {
    "deletable": false,
    "editable": false,
    "nbgrader": {
     "cell_type": "markdown",
     "checksum": "f537fe515e16f99980b2dd51ad5dd4e5",
     "grade": false,
     "grade_id": "cell-e5adf3a54fd8e409",
     "locked": true,
     "schema_version": 3,
     "solution": false,
     "task": false
    }
   },
   "source": [
    "### Problem 1A (MTZ approach)\n",
    "\n",
    "We will use the same ILP setup as in our notes (see the notes on Exact Approaches to TSP that includes the ILP encodings we will use in this problem).\n",
    "  - Decision variables $x_{i,j}$ for $i \\not= j$ denoting that the tour traverses the edge from $i$ to $j$.\n",
    "  - Time stamps $t_1, \\ldots, t_{n-1}$. The start/end vertex $0$ does not get a time stamp.\n",
    "  \n",
    "Modify the MTZ approach to incorporate the fact that $k$ salespeople are going to traverse the graph.\n",
    "\n",
    "#### (A) Degree Constraints\n",
    "\n",
    "What do the new degree constraints look like? Think about how many edges in the tour will need to enter/leave each vertex? Note that you may have to treat vertex $0$ differently from the other vertices of the graph.\n",
    "\n",
    "Your answer below is not graded. However you are encouraged to write it down and check with the answers to select problems provided at the end."
   ]
  },
  {
   "cell_type": "markdown",
   "metadata": {
    "deletable": false,
    "nbgrader": {
     "cell_type": "markdown",
     "checksum": "51df109ad038cafc4cdd91d50de4160b",
     "grade": true,
     "grade_id": "cell-469333c8fa8d139c",
     "locked": false,
     "points": 0,
     "schema_version": 3,
     "solution": true,
     "task": false
    }
   },
   "source": [
    "YOUR ANSWER HERE"
   ]
  },
  {
   "cell_type": "markdown",
   "metadata": {
    "deletable": false,
    "editable": false,
    "nbgrader": {
     "cell_type": "markdown",
     "checksum": "97c5975ab5b88bb808c813c0e42837aa",
     "grade": false,
     "grade_id": "cell-6619b581a4f8a728",
     "locked": true,
     "schema_version": 3,
     "solution": false,
     "task": false
    }
   },
   "source": [
    "### (B) Time Stamp Constraints \n",
    "\n",
    "Formulate the time stamp constraints for the $k$-TSP problem. Think about how you would need to change them to eliminate subtour.\n",
    "\n",
    "Your answer below is not graded. However you are encouraged to write it down and check with the answers to select problems provided at the end.\n"
   ]
  },
  {
   "cell_type": "markdown",
   "metadata": {
    "deletable": false,
    "nbgrader": {
     "cell_type": "markdown",
     "checksum": "dd1e0a0057f62cabbcb1b4d149c75961",
     "grade": true,
     "grade_id": "cell-0b4f5483ef383bbc",
     "locked": false,
     "points": 0,
     "schema_version": 3,
     "solution": true,
     "task": false
    }
   },
   "source": [
    "YOUR ANSWER HERE"
   ]
  },
  {
   "cell_type": "markdown",
   "metadata": {
    "deletable": false,
    "editable": false,
    "nbgrader": {
     "cell_type": "markdown",
     "checksum": "c872ab21895be7481b3186f3b0fd1e1a",
     "grade": false,
     "grade_id": "cell-39f03286cc2bc135",
     "locked": true,
     "schema_version": 3,
     "solution": false,
     "task": false
    }
   },
   "source": [
    "### (C) Implement\n",
    "\n",
    "Complete the implementation of the function `k_tsp_mtz_encoding(n, k, cost_matrix)` below. It follows the same input convention as the code supplied in the notes. The input `n` denotes the size of the graph with vertices labeled `0`,.., `n-1`, `k` is the number of salespeople, and `cost_matrix` is a list of lists wherein `cost_matrix[i][j]` is the edge cost to go from `i` to `j` for `i != j`. Your code must avoid accessing `cost_matrix[i][i]` to avoid bugs. These entries will be supplied as `None` in the test cases.\n",
    "\n",
    "Your code must return a list `lst` that has exactly $k$ lists in it, wherein `lst[j]` represents the locations visited by the $j^{th}$ salesperson. \n",
    "\n",
    "For the example above, for $k=2$, your code must return \n",
    "~~~\n",
    "[ [0, 2, 1, 4], [0, 3] ]\n",
    "~~~\n",
    "For the example above, for $k=3$, your code must return\n",
    "~~~\n",
    "[ [0, 1, 4], [0, 2], [0, 3] ]\n",
    "~~~"
   ]
  },
  {
   "cell_type": "code",
   "execution_count": 98,
   "metadata": {
    "ExecuteTime": {
     "end_time": "2023-10-15T04:15:35.901697Z",
     "start_time": "2023-10-15T04:15:35.887931Z"
    },
    "deletable": false,
    "nbgrader": {
     "cell_type": "code",
     "checksum": "b4e7701d14a23e70b18a56ee6e0aa6c9",
     "grade": false,
     "grade_id": "cell-e47dd4e03762d02c",
     "locked": false,
     "schema_version": 3,
     "solution": true,
     "task": false
    }
   },
   "outputs": [],
   "source": [
    "from pulp import *\n",
    "def k_tsp_mtz_encoding(n, k, cost_matrix):\n",
    "    # check inputs are OK\n",
    "    assert 1 <= k < n\n",
    "    assert len(cost_matrix) == n, f'Cost matrix is not {n}x{n}'\n",
    "    assert all(len(cj) == n for cj in cost_matrix), f'Cost matrix is not {n}x{n}'\n",
    "    prob = LpProblem('kTSP', LpMinimize)\n",
    "    # finish your implementation here\n",
    "    # your code must return a list of k-lists [ [0, i1, ..., il], [0, j1,...,jl],...] wherein \n",
    "    # the ith entry in our list of lists represents the \n",
    "    # tour undertaken by the ith salesperson\n",
    "    # your code here\n",
    "        # create our encoding variables\n",
    "    binary_vars = [ # add a binary variable x_{ij} if i not = j else simply add None\n",
    "        [ LpVariable(f'x_{i}_{j}', cat='Binary') if i != j else None for j in range(n)] \n",
    "        for i in range(n) ]\n",
    "    # add time stamps for ranges 1 .. n (skip vertex 0 for timestamps)\n",
    "    time_stamps = [LpVariable(f't_{j}', lowBound=0, upBound=n, cat='Continuous') for j in range(1, n)]\n",
    "    # create add the objective function \n",
    "    objective_function = lpSum( [ lpSum([xij*cj if xij != None else 0 for (xij, cj) in zip(brow, crow) ])\n",
    "                           for (brow, crow) in zip(binary_vars, cost_matrix)] )\n",
    "    \n",
    "    prob += objective_function \n",
    "    \n",
    "    # add the degree constraints\n",
    "    for i in range(n):\n",
    "        if i == 0:\n",
    "            # Vertex 0: exactly k edges leaving and k edges entering\n",
    "            prob += lpSum(xj for xj in binary_vars[i] if xj != None) == k\n",
    "            prob += lpSum(binary_vars[j][i] for j in range(n) if j != i) == k\n",
    "        else:\n",
    "            # All other vertices: exactly one edge leaving and one entering\n",
    "            prob += lpSum(xj for xj in binary_vars[i] if xj != None) == 1\n",
    "            prob += lpSum(binary_vars[j][i] for j in range(n) if j != i) == 1\n",
    "    # add time stamp constraints\n",
    "    for i in range(1,n):\n",
    "        for j in range(1, n):\n",
    "            if i == j: \n",
    "                continue\n",
    "            xij = binary_vars[i][j]\n",
    "            ti = time_stamps[i-1]\n",
    "            tj = time_stamps[j -1]\n",
    "            prob += tj >= ti + xij - (1-xij)*(n+1) # add the constraint\n",
    "    # Done: solve the problem\n",
    "    status = prob.solve(PULP_CBC_CMD(msg=False)) # turn off messages\n",
    "    #assert status == constants.LpStatusOptimal, f'Unexpected non-optimal status {status}'\n",
    "    # Extract the tour\n",
    "    tours = []\n",
    "    for start in [j for j, x in enumerate(binary_vars[0]) if x is not None and x.varValue >= 0.999]:\n",
    "        tour = [0, start]\n",
    "        while tour[-1] != 0:\n",
    "            i = tour[-1]\n",
    "            sols = [j for j, x in enumerate(binary_vars[i]) if x is not None and x.varValue >= 0.999]\n",
    "            tour.append(sols[0])\n",
    "        tours.append(tour[:-1])\n",
    "    return tours\n",
    "\n"
   ]
  },
  {
   "cell_type": "code",
   "execution_count": 99,
   "metadata": {
    "ExecuteTime": {
     "end_time": "2023-10-15T04:15:36.532103Z",
     "start_time": "2023-10-15T04:15:36.478051Z"
    },
    "deletable": false,
    "editable": false,
    "nbgrader": {
     "cell_type": "code",
     "checksum": "5eb3c719d97578ce25c85ff206070b72",
     "grade": true,
     "grade_id": "cell-f102dee236a23785",
     "locked": true,
     "points": 3,
     "schema_version": 3,
     "solution": false,
     "task": false
    }
   },
   "outputs": [
    {
     "name": "stdout",
     "output_type": "stream",
     "text": [
      "Your code returned tours: [[0, 2, 1, 4], [0, 3]]\n",
      "Tour cost obtained by your code: 12\n",
      "test passed: 3 points\n"
     ]
    }
   ],
   "source": [
    "cost_matrix=[ [None,3,4,3,5],\n",
    "             [1, None, 2,4, 1],\n",
    "             [2, 1, None, 5, 4],\n",
    "             [1, 1, 5, None, 4],\n",
    "             [2, 1, 3, 5, None] ]\n",
    "n=5\n",
    "k=2\n",
    "all_tours = k_tsp_mtz_encoding(n, k, cost_matrix)\n",
    "print(f'Your code returned tours: {all_tours}')\n",
    "assert len(all_tours) == k, f'k={k} must yield two tours -- your code returns {len(all_tours)} tours instead'\n",
    "\n",
    "tour_cost = 0\n",
    "for tour in all_tours:\n",
    "    assert tour[0] == 0, 'Each salesperson tour must start from vertex 0'\n",
    "    i = 0\n",
    "    for j in tour[1:]:\n",
    "        tour_cost += cost_matrix[i][j]\n",
    "        i = j\n",
    "    tour_cost += cost_matrix[i][0]\n",
    "\n",
    "print(f'Tour cost obtained by your code: {tour_cost}')\n",
    "assert abs(tour_cost - 12) <= 0.001, f'Expected tour cost is 12, your code returned {tour_cost}'\n",
    "for i in range(1, n):\n",
    "    is_in_tour = [ 1 if i in tour else 0 for tour in all_tours]\n",
    "    assert sum(is_in_tour) == 1, f' vertex {i} is in {sum(is_in_tour)} tours -- this is incorrect'\n",
    "\n",
    "print('test passed: 3 points')\n"
   ]
  },
  {
   "cell_type": "code",
   "execution_count": 35,
   "metadata": {
    "ExecuteTime": {
     "end_time": "2023-10-15T04:15:37.047759Z",
     "start_time": "2023-10-15T04:15:37.020831Z"
    },
    "deletable": false,
    "editable": false,
    "nbgrader": {
     "cell_type": "code",
     "checksum": "d80dd9c8300f0b2321688d0a765b270d",
     "grade": true,
     "grade_id": "cell-8f9a204f86c84b7f",
     "locked": true,
     "points": 2,
     "schema_version": 3,
     "solution": false,
     "task": false
    }
   },
   "outputs": [
    {
     "name": "stdout",
     "output_type": "stream",
     "text": [
      "Your code returned tours: [[0, 1, 4], [0, 2], [0, 3]]\n",
      "Tour cost obtained by your code: 16\n",
      "test passed: 2 points\n"
     ]
    }
   ],
   "source": [
    "cost_matrix=[ [None,3,4,3,5],\n",
    "             [1, None, 2,4, 1],\n",
    "             [2, 1, None, 5, 4],\n",
    "             [1, 1, 5, None, 4],\n",
    "             [2, 1, 3, 5, None] ]\n",
    "n=5\n",
    "k=3\n",
    "all_tours = k_tsp_mtz_encoding(n, k, cost_matrix)\n",
    "print(f'Your code returned tours: {all_tours}')\n",
    "assert len(all_tours) == k, f'k={k} must yield two tours -- your code returns {len(all_tours)} tours instead'\n",
    "\n",
    "tour_cost = 0\n",
    "for tour in all_tours:\n",
    "    assert tour[0] == 0, 'Each salesperson tour must start from vertex 0'\n",
    "    i = 0\n",
    "    for j in tour[1:]:\n",
    "        tour_cost += cost_matrix[i][j]\n",
    "        i = j\n",
    "    tour_cost += cost_matrix[i][0]\n",
    "\n",
    "print(f'Tour cost obtained by your code: {tour_cost}')\n",
    "assert abs(tour_cost - 16) <= 0.001, f'Expected tour cost is 16, your code returned {tour_cost}'\n",
    "for i in range(1, n):\n",
    "    is_in_tour = [ 1 if i in tour else 0 for tour in all_tours]\n",
    "    assert sum(is_in_tour) == 1, f' vertex {i} is in {sum(is_in_tour)} tours -- this is incorrect'\n",
    "\n",
    "print('test passed: 2 points')"
   ]
  },
  {
   "cell_type": "code",
   "execution_count": 36,
   "metadata": {
    "deletable": false,
    "editable": false,
    "nbgrader": {
     "cell_type": "code",
     "checksum": "30b3b6c1cf584c39c08409add6fff2d5",
     "grade": true,
     "grade_id": "cell-b8417f007421c582",
     "locked": true,
     "points": 3,
     "schema_version": 3,
     "solution": false,
     "task": false
    }
   },
   "outputs": [
    {
     "name": "stdout",
     "output_type": "stream",
     "text": [
      "Your code returned tours: [[0, 6, 2, 1], [0, 7, 3, 4, 5]]\n",
      "Tour cost obtained by your code: 4\n",
      "test passed: 3 points\n"
     ]
    }
   ],
   "source": [
    "cost_matrix = [ \n",
    " [None, 1, 1, 1, 1, 1, 1, 1],\n",
    "    [0, None, 1, 2, 1, 1, 1, 1],\n",
    "    [1, 0, None, 1, 2, 2, 2, 1],\n",
    "    [1, 2, 2, None, 0, 1, 2, 1],\n",
    "    [1, 1, 1, 1, None, 1, 1, 1],\n",
    "    [0,  1, 2, 1, 1, None, 1, 1],\n",
    "    [1, 0,  1, 2, 2, 2,None, 1],\n",
    "    [1, 2, 2, 0, 1, 2, 1, None],\n",
    "]\n",
    "n = 8\n",
    "k = 2\n",
    "\n",
    "all_tours = k_tsp_mtz_encoding(n, k, cost_matrix)\n",
    "print(f'Your code returned tours: {all_tours}')\n",
    "assert len(all_tours) == k, f'k={k} must yield two tours -- your code returns {len(all_tours)} tours instead'\n",
    "\n",
    "tour_cost = 0\n",
    "for tour in all_tours:\n",
    "    assert tour[0] == 0, 'Each salesperson tour must start from vertex 0'\n",
    "    i = 0\n",
    "    for j in tour[1:]:\n",
    "        tour_cost += cost_matrix[i][j]\n",
    "        i = j\n",
    "    tour_cost += cost_matrix[i][0]\n",
    "\n",
    "print(f'Tour cost obtained by your code: {tour_cost}')\n",
    "assert abs(tour_cost - 4) <= 0.001, f'Expected tour cost is 4, your code returned {tour_cost}'\n",
    "for i in range(1, n):\n",
    "    is_in_tour = [ 1 if i in tour else 0 for tour in all_tours]\n",
    "    assert sum(is_in_tour) == 1, f' vertex {i} is in {sum(is_in_tour)} tours -- this is incorrect'\n",
    "\n",
    "print('test passed: 3 points')"
   ]
  },
  {
   "cell_type": "code",
   "execution_count": 37,
   "metadata": {
    "deletable": false,
    "editable": false,
    "nbgrader": {
     "cell_type": "code",
     "checksum": "fc6aebcb676ada2dbe7a29f20c4e4e71",
     "grade": true,
     "grade_id": "cell-03146af7d96a27d5",
     "locked": true,
     "points": 2,
     "schema_version": 3,
     "solution": false,
     "task": false
    }
   },
   "outputs": [
    {
     "name": "stdout",
     "output_type": "stream",
     "text": [
      "Your code returned tours: [[0, 2], [0, 5], [0, 6, 1], [0, 7, 3, 4]]\n",
      "Tour cost obtained by your code: 6\n",
      "test passed: 2 points\n"
     ]
    }
   ],
   "source": [
    "cost_matrix = [ \n",
    " [None, 1, 1, 1, 1, 1, 1, 1],\n",
    "    [0, None, 1, 2, 1, 1, 1, 1],\n",
    "    [1, 0, None, 1, 2, 2, 2, 1],\n",
    "    [1, 2, 2, None, 0, 1, 2, 1],\n",
    "    [1, 1, 1, 1, None, 1, 1, 1],\n",
    "    [0,  1, 2, 1, 1, None, 1, 1],\n",
    "    [1, 0,  1, 2, 2, 2,None, 1],\n",
    "    [1, 2, 2, 0, 1, 2, 1, None],\n",
    "]\n",
    "n = 8\n",
    "k = 4\n",
    "\n",
    "all_tours = k_tsp_mtz_encoding(n, k, cost_matrix)\n",
    "print(f'Your code returned tours: {all_tours}')\n",
    "assert len(all_tours) == k, f'k={k} must yield two tours -- your code returns {len(all_tours)} tours instead'\n",
    "\n",
    "tour_cost = 0\n",
    "for tour in all_tours:\n",
    "    assert tour[0] == 0, 'Each salesperson tour must start from vertex 0'\n",
    "    i = 0\n",
    "    for j in tour[1:]:\n",
    "        tour_cost += cost_matrix[i][j]\n",
    "        i = j\n",
    "    tour_cost += cost_matrix[i][0]\n",
    "\n",
    "print(f'Tour cost obtained by your code: {tour_cost}')\n",
    "assert abs(tour_cost - 6) <= 0.001, f'Expected tour cost is 6, your code returned {tour_cost}'\n",
    "for i in range(1, n):\n",
    "    is_in_tour = [ 1 if i in tour else 0 for tour in all_tours]\n",
    "    assert sum(is_in_tour) == 1, f' vertex {i} is in {sum(is_in_tour)} tours -- this is incorrect'\n",
    "\n",
    "print('test passed: 2 points')"
   ]
  },
  {
   "cell_type": "code",
   "execution_count": 38,
   "metadata": {
    "ExecuteTime": {
     "end_time": "2023-10-15T04:15:38.017559Z",
     "start_time": "2023-10-15T04:15:37.819749Z"
    },
    "deletable": false,
    "editable": false,
    "nbgrader": {
     "cell_type": "code",
     "checksum": "eaa225468818eb4468a7c53e97d7dbb5",
     "grade": true,
     "grade_id": "cell-f903e8e7ad9e3b86",
     "locked": true,
     "points": 15,
     "schema_version": 3,
     "solution": false,
     "task": false
    }
   },
   "outputs": [
    {
     "name": "stdout",
     "output_type": "stream",
     "text": [
      "Trial # 0\n",
      " n= 5, k=2\n",
      "cost_matrix = \n",
      "[[None, 1.1280783788745397, 2.129189220358794, 0.6538570342196526, 3.114220159832428], [2.0159638741338943, None, 0.6751686574303872, 3.4224575627050404, 1.9697466868305664], [4.90169299500138, 1.209324047175981, None, 0.22725240921241951, 1.065637138629013], [1.3691839981539973, 2.7440733700237017, 3.591861010337862, None, 2.021205937425789], [0.5954287087555349, 3.593910778682363, 2.0059142624639623, 1.3277790637978208, None]]\n",
      "Your code returned tours: [[0, 1, 2, 4], [0, 3]]\n",
      "Tour cost obtained by your code: 5.487353916063125\n",
      "------\n",
      "Trial # 1\n",
      " n= 9, k=4\n",
      "cost_matrix = \n",
      "[[None, 3.2144962309573204, 0.06620417053351813, 1.2581309296135879, 1.6560825606051628, 1.165025264812491, 2.490256548957228, 4.523224401420723, 2.5408272754437773], [0.539019587217503, None, 2.095550827434021, 1.2897106417167359, 3.0632659540519325, 2.8887636926038858, 4.897069702562768, 2.669581721417642, 3.182569341467923], [3.000514723277708, 2.3988666963065026, None, 4.410981376996254, 4.1754487950365125, 3.9571128201657557, 3.9188103113555868, 1.0778689077001236, 0.2969042042199388], [4.692058085267513, 4.012929362540899, 4.431895577644484, None, 3.6787634848340085, 2.9110832908832367, 0.9684012706271189, 3.9270517632712494, 4.9918167099700455], [4.0557447682323575, 0.8527611727793866, 0.054605202571512135, 0.7286425119533285, None, 0.6679048454549458, 0.7307919786303457, 0.07986825040468215, 0.2629059931431299], [4.197952702471497, 3.29175869394503, 4.917786910047679, 0.4652137206786966, 2.969215341472907, None, 1.22821714898296, 1.7328482857455314, 0.5500647805627817], [4.632396337946223, 0.8732166225680188, 2.978271824012827, 0.4832194082558894, 1.8789637362195717, 4.191132732311854, None, 1.1435599346752872, 3.7844582489089618], [0.7869369945012578, 0.6339086973364438, 1.914216543407588, 4.477842224870148, 3.452950757930522, 1.9585196046056896, 4.222782391741128, None, 2.4632522758067523], [2.1232509549747807, 4.886370107303251, 1.4068346876152553, 4.904367347941429, 3.645764001702307, 2.717739179659404, 2.8031286345933766, 1.1074908803549026, None]]\n",
      "Your code returned tours: [[0, 2], [0, 3, 6, 1], [0, 4, 7], [0, 5, 8]]\n",
      "Tour cost obtained by your code: 13.066716109698609\n",
      "------\n",
      "Trial # 2\n",
      " n= 6, k=3\n",
      "cost_matrix = \n",
      "[[None, 3.2171820595905642, 4.874319131995332, 1.8285401588380341, 0.6399647081443616, 2.3173775118267077], [2.070599891089295, None, 0.9613054006539323, 1.4937772413395805, 0.841520261532997, 3.3946766565708937], [0.023699485971974688, 3.2328337597101653, None, 2.829753151816971, 1.742264171005099, 0.9298427773839996], [0.37316825688397837, 2.774961189630311, 4.98395302821492, None, 4.158139038917233, 4.9133181608708725], [2.939814135343684, 3.57834221810816, 2.7366431721944013, 1.5274492918536557, None, 3.7912507665547213], [1.3069463424927523, 2.1874679101561654, 0.648845163896502, 1.6942482624185202, 4.445558150127652, None]]\n",
      "Your code returned tours: [[0, 1, 2], [0, 4, 3], [0, 5]]\n",
      "Tour cost obtained by your code: 10.367093057417927\n",
      "------\n",
      "Trial # 3\n",
      " n= 7, k=2\n",
      "cost_matrix = \n",
      "[[None, 3.963129817920695, 1.9101638175289177, 0.28109978874034103, 3.908801955685325, 3.339342516425198, 1.348103036678402], [3.574962647721746, None, 4.026235181308345, 3.9180601867531117, 0.3443802663049145, 3.052301620479727, 0.07590963871370704], [3.0287925144410965, 1.1061931968871397, None, 3.8345438468800297, 2.1525343588047585, 4.007180343911225, 0.8234351748309232], [3.569342158789715, 1.5151878476700338, 4.675855285917338, None, 1.1236064596102442, 2.7805572761164825, 4.471248646874251], [4.551751010659835, 3.020585206052806, 0.5804016276764229, 3.242695538521047, None, 2.795502734960626, 4.592474756251751], [0.5424777880533177, 1.8496111212014883, 1.5146073766698183, 1.7480468090214156, 2.2894475208282614, None, 1.2508177477555078], [2.668054001588765, 1.735613746528097, 0.688727656950891, 2.9354632439160233, 1.8182732249560518, 0.5803759447439549, None]]\n",
      "Your code returned tours: [[0, 3, 1, 4, 2], [0, 6, 5]]\n",
      "Tour cost obtained by your code: 8.220818814308483\n",
      "------\n",
      "Trial # 4\n",
      " n= 6, k=2\n",
      "cost_matrix = \n",
      "[[None, 2.8420782070667245, 3.7778247671605696, 2.001084268459692, 1.9592481148971315, 2.139740168625324], [0.45425272264885463, None, 4.869567816515975, 3.8895523916115233, 0.9673478398398017, 3.4609259151573424], [0.7055984288256822, 3.2255186658543633, None, 3.2846322032007667, 2.7554068114911994, 4.135453798215361], [3.4243067262059275, 1.699737006186099, 2.193078223362359, None, 2.1057259674277837, 0.018886253299919553], [2.0873802958576575, 3.4835037195307295, 0.9213274446498854, 2.9707412672809195, None, 1.3202393956600593], [1.745565110714744, 4.5827603888779125, 1.5514183637956547, 0.892786934232841, 4.089960595550255, None]]\n",
      "Your code returned tours: [[0, 4, 2], [0, 5, 3, 1]]\n",
      "Tour cost obtained by your code: 8.772690820065819\n",
      "------\n",
      "test passed: 15 points\n"
     ]
    }
   ],
   "source": [
    "from random import uniform, randint\n",
    "\n",
    "def create_cost(n):\n",
    "    return [ [uniform(0, 5) if i != j else None for j in range(n)] for i in range(n)]\n",
    "\n",
    "for trial in range(5):\n",
    "    print(f'Trial # {trial}')\n",
    "    n = randint(5, 11)\n",
    "    k = randint(2, n//2)\n",
    "    print(f' n= {n}, k={k}')\n",
    "    cost_matrix = create_cost(n)\n",
    "    print('cost_matrix = ')\n",
    "    print(cost_matrix)\n",
    "    all_tours = k_tsp_mtz_encoding(n, k, cost_matrix)\n",
    "    print(f'Your code returned tours: {all_tours}')\n",
    "    assert len(all_tours) == k, f'k={k} must yield two tours -- your code returns {len(all_tours)} tours instead'\n",
    "\n",
    "    tour_cost = 0\n",
    "    for tour in all_tours:\n",
    "        assert tour[0] == 0, 'Each salesperson tour must start from vertex 0'\n",
    "        i = 0\n",
    "        for j in tour[1:]:\n",
    "            tour_cost += cost_matrix[i][j]\n",
    "            i = j\n",
    "        tour_cost += cost_matrix[i][0]\n",
    "\n",
    "    print(f'Tour cost obtained by your code: {tour_cost}')\n",
    "    #assert abs(tour_cost - 6) <= 0.001, f'Expected tour cost is 6, your code returned {tour_cost}'\n",
    "    for i in range(1, n):\n",
    "        is_in_tour = [ 1 if i in tour else 0 for tour in all_tours]\n",
    "        assert sum(is_in_tour) == 1, f' vertex {i} is in {sum(is_in_tour)} tours -- this is incorrect'\n",
    "    print('------')\n",
    "print('test passed: 15 points')"
   ]
  },
  {
   "cell_type": "markdown",
   "metadata": {
    "deletable": false,
    "editable": false,
    "nbgrader": {
     "cell_type": "markdown",
     "checksum": "7855e72aee3778160b355d2d302d981f",
     "grade": false,
     "grade_id": "cell-8027c3c55a58ac38",
     "locked": true,
     "schema_version": 3,
     "solution": false,
     "task": false
    }
   },
   "source": [
    "## Problem 1 B\n",
    "\n",
    "Notice that in previous part, it happens that with $k=4$ salespeople, we actually get a worse cost than using $k=3$ people. You can try out a few examples to convince yourself as to why this happens. \n",
    "\n",
    "We wish to modify the problem to allow salespeople to idle. In other words, although we input $k$ salespeople, the tour we construct may involve $1 \\leq l \\leq k$ salespeople. \n",
    "\n",
    "Modify the ILP formulation from the previous problem to solve the problem of up to $k$ people rather than exactly $k$ salespeople. Note that we still require that every vertex be visited exactly once by some salesperson. \n",
    "\n",
    "Complete the implementation of the function `upto_k_tsp_mtz_encoding(n, k, cost_matrix)` below. It follows the same input convention as previous problem but note that we are now computing a tour with at most $k$ salespeople. In other words, not all salespeople need be employed in the tour.\n",
    "\n",
    "Your code must return a list `lst` that has less than or equal to  $k$ lists, wherein `lst[j]` represents the locations visited by the $j^{th}$ salesperson. \n",
    "\n",
    "For Example-1 from the previous part above, for $k=2$ or $k=3$, your code must return \n",
    "~~~\n",
    "[ [0, 3, 1, 4, 2] ]\n",
    "~~~\n",
    "As it turns out, in this example a single salesperson suffices to yield optimal cost."
   ]
  },
  {
   "cell_type": "code",
   "execution_count": 41,
   "metadata": {
    "ExecuteTime": {
     "end_time": "2023-10-15T04:21:27.375137Z",
     "start_time": "2023-10-15T04:21:27.364415Z"
    },
    "deletable": false,
    "nbgrader": {
     "cell_type": "code",
     "checksum": "15095744c72bd15c0ae23243082461f0",
     "grade": false,
     "grade_id": "cell-b42d80235b921c86",
     "locked": false,
     "schema_version": 3,
     "solution": true,
     "task": false
    }
   },
   "outputs": [],
   "source": [
    "from pulp import *\n",
    "def upto_k_tsp_mtz_encoding(n, k, cost_matrix):\n",
    "    # check inputs are OK\n",
    "    assert 1 <= k < n\n",
    "    assert len(cost_matrix) == n, f'Cost matrix is not {n}x{n}'\n",
    "    assert all(len(cj) == n for cj in cost_matrix), f'Cost matrix is not {n}x{n}'\n",
    "    prob = LpProblem('kTSP', LpMinimize)\n",
    "    # finish your implementation here\n",
    "    # your code must return a list of k-lists [ [0, i1, ..., il], [0, j1,...,jl],...] wherein \n",
    "    # the ith entry in our list of lists represents the \n",
    "    # tour undertaken by the ith salesperson\n",
    "    # your code here\n",
    "            # create our encoding variables\n",
    "    binary_vars = [ # add a binary variable x_{ij} if i not = j else simply add None\n",
    "        [ LpVariable(f'x_{i}_{j}', cat='Binary') if i != j else None for j in range(n)] \n",
    "        for i in range(n) ]\n",
    "    # add time stamps for ranges 1 .. n (skip vertex 0 for timestamps)\n",
    "    time_stamps = [LpVariable(f't_{j}', lowBound=0, upBound=n, cat='Continuous') for j in range(1, n)]\n",
    "    # create add the objective function \n",
    "    objective_function = lpSum( [ lpSum([xij*cj if xij != None else 0 for (xij, cj) in zip(brow, crow) ])\n",
    "                           for (brow, crow) in zip(binary_vars, cost_matrix)] )\n",
    "    \n",
    "    prob += objective_function \n",
    "    \n",
    "    # add the degree constraints\n",
    "    for i in range(n):\n",
    "        if i == 0:\n",
    "            # Vertex 0: exactly k edges leaving and k edges entering\n",
    "            prob += lpSum(xj for xj in binary_vars[i] if xj != None) <= k\n",
    "            prob += lpSum(binary_vars[j][i] for j in range(n) if j != i) <= k\n",
    "        else:\n",
    "            # All other vertices: exactly one edge leaving and one entering\n",
    "            prob += lpSum(xj for xj in binary_vars[i] if xj != None) == 1\n",
    "            prob += lpSum(binary_vars[j][i] for j in range(n) if j != i) == 1\n",
    "    # add time stamp constraints\n",
    "    for i in range(1,n):\n",
    "        for j in range(1, n):\n",
    "            if i == j: \n",
    "                continue\n",
    "            xij = binary_vars[i][j]\n",
    "            ti = time_stamps[i-1]\n",
    "            tj = time_stamps[j -1]\n",
    "            prob += tj >= ti + xij - (1-xij)*(n+1) # add the constraint\n",
    "    # Done: solve the problem\n",
    "    status = prob.solve(PULP_CBC_CMD(msg=False)) # turn off messages\n",
    "    #assert status == constants.LpStatusOptimal, f'Unexpected non-optimal status {status}'\n",
    "    # Extract the tour\n",
    "    tours = []\n",
    "    for start in [j for j, x in enumerate(binary_vars[0]) if x is not None and x.varValue >= 0.999]:\n",
    "        tour = [0, start]\n",
    "        while tour[-1] != 0:\n",
    "            i = tour[-1]\n",
    "            sols = [j for j, x in enumerate(binary_vars[i]) if x is not None and x.varValue >= 0.999]\n",
    "            tour.append(sols[0])\n",
    "        tours.append(tour[:-1])\n",
    "    return tours"
   ]
  },
  {
   "cell_type": "code",
   "execution_count": 42,
   "metadata": {
    "ExecuteTime": {
     "end_time": "2023-10-15T04:23:20.468966Z",
     "start_time": "2023-10-15T04:23:20.409463Z"
    },
    "deletable": false,
    "editable": false,
    "nbgrader": {
     "cell_type": "code",
     "checksum": "89522fac9cb884347d53c143ef2bbddb",
     "grade": true,
     "grade_id": "cell-934ddb639bc6c01d",
     "locked": true,
     "points": 3,
     "schema_version": 3,
     "solution": false,
     "task": false
    }
   },
   "outputs": [
    {
     "name": "stdout",
     "output_type": "stream",
     "text": [
      "Your code returned tours: [[0, 3, 1, 4, 2]]\n",
      "Tour cost obtained by your code: 10\n",
      "test passed: 3 points\n"
     ]
    }
   ],
   "source": [
    "cost_matrix=[ [None,3,4,3,5],\n",
    "             [1, None, 2,4, 1],\n",
    "             [2, 1, None, 5, 4],\n",
    "             [1, 1, 5, None, 4],\n",
    "             [2, 1, 3, 5, None] ]\n",
    "n=5\n",
    "k=3\n",
    "all_tours = upto_k_tsp_mtz_encoding(n, k, cost_matrix)\n",
    "print(f'Your code returned tours: {all_tours}')\n",
    "assert len(all_tours) <= k, f'<= {k} tours -- your code returns {len(all_tours)} tours instead'\n",
    "\n",
    "tour_cost = 0\n",
    "for tour in all_tours:\n",
    "    assert tour[0] == 0, 'Each salesperson tour must start from vertex 0'\n",
    "    i = 0\n",
    "    for j in tour[1:]:\n",
    "        tour_cost += cost_matrix[i][j]\n",
    "        i = j\n",
    "    tour_cost += cost_matrix[i][0]\n",
    "\n",
    "assert len(all_tours) == 1, f'In this example, just one salesperson is needed to optimally visit all vertices. Your code returns {len(all_tours)}'\n",
    "print(f'Tour cost obtained by your code: {tour_cost}')\n",
    "assert abs(tour_cost - 10) <= 0.001, f'Expected tour cost is 10, your code returned {tour_cost}'\n",
    "for i in range(1, n):\n",
    "    is_in_tour = [ 1 if i in tour else 0 for tour in all_tours]\n",
    "    assert sum(is_in_tour) == 1, f' vertex {i} is in {sum(is_in_tour)} tours -- this is incorrect'\n",
    "\n",
    "print('test passed: 3 points')"
   ]
  },
  {
   "cell_type": "code",
   "execution_count": 43,
   "metadata": {
    "ExecuteTime": {
     "end_time": "2023-10-15T04:23:21.399058Z",
     "start_time": "2023-10-15T04:23:21.349141Z"
    },
    "deletable": false,
    "editable": false,
    "nbgrader": {
     "cell_type": "code",
     "checksum": "3c0af62f53ac2b3906bdf1c4e1ae190a",
     "grade": true,
     "grade_id": "cell-17fd7b9a31ded1eb",
     "locked": true,
     "points": 3,
     "schema_version": 3,
     "solution": false,
     "task": false
    }
   },
   "outputs": [
    {
     "name": "stdout",
     "output_type": "stream",
     "text": [
      "Your code returned tours: [[0, 6, 2, 1], [0, 7, 3, 4, 5]]\n",
      "Tour cost obtained by your code: 4\n",
      "test passed: 3 points\n"
     ]
    }
   ],
   "source": [
    "cost_matrix = [ \n",
    " [None, 1, 1, 1, 1, 1, 1, 1],\n",
    "    [0, None, 1, 2, 1, 1, 1, 1],\n",
    "    [1, 0, None, 1, 2, 2, 2, 1],\n",
    "    [1, 2, 2, None, 0, 1, 2, 1],\n",
    "    [1, 1, 1, 1, None, 1, 1, 1],\n",
    "    [0,  1, 2, 1, 1, None, 1, 1],\n",
    "    [1, 0,  1, 2, 2, 2,None, 1],\n",
    "    [1, 2, 2, 0, 1, 2, 1, None],\n",
    "]\n",
    "n = 8\n",
    "k = 5\n",
    "\n",
    "all_tours = upto_k_tsp_mtz_encoding(n, k, cost_matrix)\n",
    "print(f'Your code returned tours: {all_tours}')\n",
    "assert len(all_tours) <= k, f'k={k} must yield two tours -- your code returns {len(all_tours)} tours instead'\n",
    "\n",
    "tour_cost = 0\n",
    "for tour in all_tours:\n",
    "    assert tour[0] == 0, 'Each salesperson tour must start from vertex 0'\n",
    "    i = 0\n",
    "    for j in tour[1:]:\n",
    "        tour_cost += cost_matrix[i][j]\n",
    "        i = j\n",
    "    tour_cost += cost_matrix[i][0]\n",
    "\n",
    "print(f'Tour cost obtained by your code: {tour_cost}')\n",
    "assert abs(tour_cost - 4) <= 0.001, f'Expected tour cost is 4, your code returned {tour_cost}'\n",
    "for i in range(1, n):\n",
    "    is_in_tour = [ 1 if i in tour else 0 for tour in all_tours]\n",
    "    assert sum(is_in_tour) == 1, f' vertex {i} is in {sum(is_in_tour)} tours -- this is incorrect'\n",
    "\n",
    "print('test passed: 3 points')"
   ]
  },
  {
   "cell_type": "code",
   "execution_count": 44,
   "metadata": {
    "ExecuteTime": {
     "end_time": "2023-10-15T04:25:04.327060Z",
     "start_time": "2023-10-15T04:25:03.253506Z"
    },
    "deletable": false,
    "editable": false,
    "nbgrader": {
     "cell_type": "code",
     "checksum": "c8c22495acd3dc320309609c785c0f3c",
     "grade": true,
     "grade_id": "cell-4910fe35d0e1c603",
     "locked": true,
     "points": 4,
     "schema_version": 3,
     "solution": false,
     "task": false
    }
   },
   "outputs": [
    {
     "name": "stdout",
     "output_type": "stream",
     "text": [
      "Trial # 0\n",
      " n= 8, k=2\n",
      "cost_matrix = \n",
      "[[None, 4.285280020909686, 2.882390853171362, 3.263322402606383, 1.4156303744991434, 4.339841925266716, 3.125798571262759, 2.268522316780563], [1.7233225104340966, None, 3.0098622121555287, 1.9026545188269521, 3.9432319291390012, 3.957166280534776, 4.879123144668646, 1.9832049788232409], [3.846438644906782, 1.256603857069053, None, 4.226055865625207, 1.1052634780048132, 2.565851327350557, 4.9325884006694505, 1.2648175606393575], [2.7301331937032893, 4.366221849110778, 3.0123355659629345, None, 0.7927480738234605, 4.06195202779701, 0.7742895694235374, 1.0104230947091108], [0.17039835547972837, 3.3274396437701173, 1.2372178962601583, 4.925703537859393, None, 1.4029787545056638, 3.7279054553420825, 3.958042126823429], [4.111043221976705, 1.609780174327049, 2.8866102077289986, 4.809083580048049, 3.946322960760708, None, 4.9815661449425805, 2.8885125468624295], [3.149478811927526, 4.514439476267103, 1.6881792440996446, 1.677626798588453, 1.6557508439402695, 4.649441265691031, None, 2.1829858243294895], [2.5715197695600067, 3.9099601977516754, 1.7216494086069605, 3.650707671526783, 0.1285951434503091, 3.2972853010150627, 2.3129546279371835, None]]\n",
      "Your code returned tours: [[0, 3, 6, 2, 7, 4, 5, 1]]\n",
      "Tour cost obtained by your code: 11.855285359486041\n",
      "------\n",
      "Trial # 1\n",
      " n= 6, k=3\n",
      "cost_matrix = \n",
      "[[None, 2.4112562273387828, 0.2523953264440715, 3.030929049335558, 3.599705019969328, 2.936426473710077], [1.9860340837330108, None, 0.3052344450891137, 1.722896128862354, 2.4228439376038957, 1.0165206542122862], [3.2588475003303423, 3.985705820938969, None, 1.8363561947710512, 2.2218009413760775, 0.8336948836872565], [3.13488246803449, 3.6463407638216854, 0.1680947848499692, None, 2.4877915131613815, 0.2330563604335495], [3.8368452071967782, 2.0965661280218475, 2.6611287024351054, 3.392529143580698, None, 3.9684030531942547], [4.152550977255586, 0.7567639673593551, 4.4869211004392735, 3.3437768628561897, 1.8844436574111918, None]]\n",
      "Your code returned tours: [[0, 2, 3, 5, 4, 1]]\n",
      "Tour cost obtained by your code: 8.288851750814722\n",
      "------\n",
      "Trial # 2\n",
      " n= 6, k=2\n",
      "cost_matrix = \n",
      "[[None, 3.798920905163124, 3.935379058007822, 1.326138496978067, 4.492326494329665, 3.1561535848781404], [0.32372890859802717, None, 4.845964302030729, 3.859005228185625, 2.1764353490792026, 4.052578366174067], [1.652444176405941, 1.937495101014513, None, 3.330815796653501, 1.8312576209909297, 4.105045633741699], [1.641241871800228, 0.19186466923166556, 4.414015971833908, None, 0.2021206693633537, 2.5823852246378136], [2.566871568890453, 4.916292929108156, 2.9132565551716327, 4.982534430387032, None, 2.5778318276486996], [0.5926022783710055, 3.12910692457895, 2.449336396853484, 3.960413523363436, 3.0261139586718846, None]]\n",
      "Your code returned tours: [[0, 3, 4, 5, 2, 1]]\n",
      "Tour cost obtained by your code: 8.816651400456145\n",
      "------\n",
      "Trial # 3\n",
      " n= 7, k=3\n",
      "cost_matrix = \n",
      "[[None, 4.7411962872027615, 3.2422145775782725, 1.3207842119074624, 4.662259276602637, 4.454601846638756, 0.9084104785698582], [4.325030185933306, None, 1.1269352989110377, 2.5067306784731302, 4.435666502862864, 0.5499189162437995, 3.8304296003257847], [2.7671725161656147, 4.099383458084177, None, 1.6291877782299513, 1.1458761850072667, 1.0323980671935757, 4.952934501335157], [4.696559664191137, 4.203956260418494, 0.3862054516244917, None, 2.11710141596913, 1.1953786780320341, 4.498225870917307], [1.366510739446423, 4.0043074245174015, 3.2193381747213055, 2.877805684666531, None, 1.8888993606688376, 1.849510005759401], [0.6818801383413464, 3.4547412579649284, 1.6735924981561405, 0.1447720233622568, 3.5727952216652614, None, 4.209979196945766], [3.387063121613607, 2.5934829207851324, 2.69904458220624, 1.5309477253961474, 1.4055295579331795, 2.749130233212082, None]]\n",
      "Your code returned tours: [[0, 6, 1, 5, 3, 2, 4]]\n",
      "Tour cost obtained by your code: 7.095176715039229\n",
      "------\n",
      "Trial # 4\n",
      " n= 8, k=4\n",
      "cost_matrix = \n",
      "[[None, 3.116038881261721, 1.352547529668699, 4.782830286816871, 3.302402540137723, 3.220560936457391, 2.7179643288024047, 1.875304814368568], [4.173177272241319, None, 4.868796767226517, 2.5442239206591806, 4.79156330155349, 1.0216904133637383, 4.756938616125951, 1.406238592593071], [3.0106439166913095, 1.4259108977239132, None, 2.312583065742402, 1.08462372182339, 1.6004664438956684, 4.45084623164501, 4.175034319150781], [4.693742135544604, 4.7031778800437385, 3.4946709075668787, None, 2.860834622101714, 3.7340308372227824, 1.6998762695271519, 1.4483928750548714], [1.8076015383965571, 4.843484462267032, 1.5717604087904862, 3.8348759582269762, None, 4.13629232978265, 4.124802936051062, 3.748159267458045], [2.64307753702046, 2.1033931983794867, 3.2572589633474616, 4.618838702078857, 4.421594914837859, None, 4.794019201017744, 1.873790580023551], [2.0355618390142323, 2.3910701829483045, 1.9844618099849782, 2.928483906871784, 0.49715383591540596, 2.2150144288170277, None, 0.8882090877931714], [3.0061973403521653, 2.236658998718145, 1.7967381675402572, 4.4007715015148605, 1.2837026187177614, 3.2921183050729423, 3.869171708217353, None]]\n",
      "Your code returned tours: [[0, 2, 5, 1, 3, 6, 7, 4]]\n",
      "Tour cost obtained by your code: 13.280020607037677\n",
      "------\n",
      "Trial # 5\n",
      " n= 5, k=2\n",
      "cost_matrix = \n",
      "[[None, 3.306898122583929, 1.580410456913115, 2.8207704894357626, 0.0911916201922891], [1.4868455594873609, None, 2.194354806709202, 2.108845573500897, 2.5751142525653066], [1.5720173574110485, 3.6757573563977095, None, 2.767961730911293, 3.89497209922755], [0.5011794797068297, 1.9587944628983445, 3.975702415086191, None, 4.992815393295983], [2.517394747930486, 4.766680081897099, 3.6779585406281523, 0.9165684628379794, None]]\n",
      "Your code returned tours: [[0, 4, 3, 1, 2]]\n",
      "Tour cost obtained by your code: 6.732926710048863\n",
      "------\n",
      "Trial # 6\n",
      " n= 6, k=2\n",
      "cost_matrix = \n",
      "[[None, 2.1079101787701626, 0.017233836762580723, 3.443569718318646, 3.5418037913721525, 3.360244854390053], [3.197117339715299, None, 2.5230845697356052, 4.585198629141271, 2.7978099896476882, 1.5543426592273142], [4.877488601294041, 1.9712659699223583, None, 0.9148910723851122, 3.7482033588599584, 1.8975309828372526], [3.137722673313377, 1.5035738917147774, 4.7206255812558675, None, 4.284070993074588, 2.124910797542601], [1.9161394266910707, 3.105946211074371, 2.223613573767979, 2.9121290395556523, None, 4.527727885018779], [0.28786217513360635, 3.0472179772419445, 4.261248169354899, 3.529877925689158, 2.932622933673566, None]]\n",
      "Your code returned tours: [[0, 2, 3, 1, 5, 4]]\n",
      "Tour cost obtained by your code: 8.838803820454421\n",
      "------\n",
      "Trial # 7\n",
      " n= 11, k=5\n",
      "cost_matrix = \n",
      "[[None, 2.349280201168742, 3.1496274940294517, 1.7072599011701501, 2.3903557977394145, 3.144729469487617, 3.232182693735433, 2.400412638508196, 0.7618563757700414, 1.2296796561130434, 2.689729886489116], [1.9432487112557255, None, 0.08124904740759664, 4.110915098509805, 3.8894149072871125, 3.3237082641411253, 1.7654430908150447, 0.31333766526635387, 0.55882373354391, 3.876141861466401, 1.6134240109805975], [1.2598265017969652, 3.4458855408097895, None, 1.023262086399917, 1.1811212815518746, 4.406061726061157, 4.620460467382398, 0.8334202917571271, 0.048875939230983434, 4.933640784118933, 4.376058874878524], [4.749133448914117, 4.815197421055721, 4.280047073503116, None, 2.7988318676847435, 0.1510423000965727, 1.1031281320764026, 4.520326992237211, 2.0409821118990648, 1.9838478811940086, 0.39426821477566043], [1.8956573529500327, 0.07555853407504087, 4.49179930470293, 2.3471633500161584, None, 1.5139116432018107, 3.987211729394304, 0.24533454758683293, 1.9670698791819885, 1.2068607067270876, 0.8518227590629618], [0.2897434009125033, 2.0297219774854725, 4.774235588323437, 0.08342183878712606, 3.6949042476438283, None, 0.5682189949719524, 0.40819753353886545, 0.24987033335388042, 2.4860810774344473, 4.007981156328883], [2.184783967942439, 1.2376460081734386, 4.2205547281814155, 0.2739908348871001, 4.837693430693497, 3.3631895897298323, None, 3.972480494417962, 3.3376096333722556, 2.7650707801781143, 2.314365029028039], [0.13855628267086473, 4.620858848364343, 0.3719176292526505, 2.4765343283291346, 4.288515442774095, 0.4553447017449419, 4.211808887090648, None, 2.754969607368576, 3.2875134486804694, 0.04744628019489827], [3.311217199672407, 4.188920977532523, 1.5168136027779138, 4.0640600608259465, 0.36695954912186746, 1.112488359798654, 2.5330011577400446, 3.9937792252243263, None, 1.9857293272283827, 0.2370587441073818], [4.408557488720134, 1.2595524045225348, 2.436627582669528, 1.11717396463486, 3.5542390351568813, 4.274026398411716, 0.4749935523940424, 3.69142513537321, 0.39639168650273005, None, 0.935373745855585], [3.288484329376418, 4.736287280299912, 1.1742894628779654, 3.9988714258479634, 1.5520936328296147, 4.706648375189281, 3.609377366026597, 4.5867190006125425, 0.42303362603194283, 1.0036098558051103, None]]\n",
      "Your code returned tours: [[0, 8, 4, 1, 2, 7, 10, 9, 6, 3, 5]]\n",
      "Tour cost obtained by your code: 4.3598700224219\n",
      "------\n",
      "Trial # 8\n",
      " n= 5, k=2\n",
      "cost_matrix = \n",
      "[[None, 2.8525850264267785, 1.8550450028549725, 4.13868978621586, 1.6943622947595367], [0.13772259270604825, None, 1.778172027270724, 3.536018171572637, 3.5378743286890084], [4.014004504767538, 1.6111051706810602, None, 3.369164401380572, 2.6447433573438306], [1.229879298254604, 0.5552467035673836, 2.6376137747591755, None, 1.9427983185550706], [1.8155432135961163, 2.8929772371812463, 2.8173031168575053, 3.399182267917812, None]]\n",
      "Your code returned tours: [[0, 4, 2, 3, 1]]\n",
      "Tour cost obtained by your code: 8.573799109271045\n",
      "------\n",
      "Trial # 9\n",
      " n= 6, k=3\n",
      "cost_matrix = \n",
      "[[None, 3.2059990890608714, 3.0489206061518432, 3.854528210442493, 0.2974314382765031, 0.22782159292506377], [1.0283615092811038, None, 0.037343948252985815, 4.400368810466237, 4.1999605072013635, 3.423827329565476], [3.768416373831916, 1.0788505094397771, None, 2.4573201705453043, 3.278534721763516, 1.3329354696120315], [3.0249109139618433, 0.5408211146629099, 2.9127279199154534, None, 1.8225142060058404, 0.9356055862879142], [4.27861251278207, 0.5002425545033728, 3.479102260028047, 4.287535125007967, None, 3.1646057964557217], [4.870192282527427, 2.90976594136811, 2.856554228955059, 1.460163997863374, 3.41737978170289, None]]\n",
      "Your code returned tours: [[0, 4, 1, 2, 5, 3]]\n",
      "Tour cost obtained by your code: 6.65302832247011\n",
      "------\n",
      "Trial # 10\n",
      " n= 5, k=2\n",
      "cost_matrix = \n",
      "[[None, 1.3502470375766533, 3.742036645734026, 1.4867262118360687, 1.0681278028662133], [4.190744958941069, None, 3.5467202583248314, 2.2368106746695076, 2.108273204389752], [0.2115084407275858, 3.7653479122130467, None, 1.953411086677828, 3.77302699355686], [0.31714119030381904, 3.1459419692601696, 3.5245582756225757, None, 4.126311292352229], [3.8962623686005826, 1.6135249458432983, 3.252625055607727, 3.4099494746227226, None]]\n",
      "Your code returned tours: [[0, 3], [0, 4, 1, 2]]\n",
      "Tour cost obtained by your code: 8.243748849901818\n",
      "------\n",
      "Trial # 11\n",
      " n= 10, k=3\n",
      "cost_matrix = \n",
      "[[None, 2.5459127638736896, 0.06490598808171877, 1.2585376144171734, 1.2299907646473245, 1.225826213720163, 0.548308977112234, 1.0133978955369267, 1.65249136348449, 1.5341488819455762], [2.7722029509739237, None, 3.011894731908921, 2.2840679058986573, 1.1734540789575976, 3.821925930552581, 2.0942642151658863, 4.766904603410138, 3.577712042288605, 4.143514942298673], [0.8642309948721694, 0.8623995156099951, None, 0.7425177321726345, 0.15733989931912717, 2.184810071294396, 0.6084927397271528, 2.446303369144899, 2.3598994667980415, 2.8828426808128294], [2.8482752081513003, 1.2996992766246511, 4.641822529724374, None, 0.09950014687085451, 0.06279095124067213, 0.911321439938983, 2.1663132829348175, 4.6661333527292435, 3.569456625859992], [3.3108300204955583, 4.944774952362624, 1.1484563262908165, 1.7689624095449634, None, 4.641233814173237, 3.2470575517879046, 1.2676985128913287, 0.6198734379696952, 2.963235644439876], [0.727166514909085, 2.7954986437587275, 1.607030208894038, 0.643040447438758, 3.054954010622647, None, 0.54497293609295, 1.938796621433609, 2.5523063329316087, 3.561331044871982], [3.0915725332971524, 0.13633139532126803, 0.7745912759615625, 3.5590129441998686, 0.4019562056899567, 0.5828682747807457, None, 0.606669485684177, 3.0181499795817945, 2.261253544084718], [1.5303212555582457, 1.366317638219678, 4.5945375023932264, 3.0786710474702454, 4.962130394197838, 0.9029474575933022, 4.567190123604811, None, 1.6274772684922452, 0.627580909048196], [0.9358876072156358, 4.82423945426714, 2.3503498091943547, 1.05785329436251, 3.8372695184458383, 0.2218495449199709, 3.019383585110096, 2.878825652783262, None, 1.1158875491635412], [3.82598771648089, 1.8743601989397451, 4.201832710900591, 1.253448108652044, 3.4825866457081722, 1.6780451064473023, 1.768088799317763, 4.603174080232854, 0.5495563657611285, None]]\n",
      "Your code returned tours: [[0, 2, 3, 5, 6, 1, 4, 7, 9, 8]]\n",
      "Tour cost obtained by your code: 6.10569647678313\n",
      "------\n",
      "Trial # 12\n",
      " n= 8, k=2\n",
      "cost_matrix = \n",
      "[[None, 2.2976001734707947, 3.581461975851869, 2.4601710883857777, 4.33255600687304, 1.0925476318081344, 2.933616772675831, 2.0342885162033078], [3.86301613677655, None, 4.866869322372325, 1.0409853180000617, 3.73736254269571, 4.826779958743954, 1.1465191593715436, 4.566922978928234], [0.4332932128725575, 2.540120537016704, None, 4.453241758099759, 3.4242873725462877, 3.3807612910593328, 3.033745403929555, 3.481552284969328], [1.507918480251072, 1.8754017703894, 2.697700067421727, None, 4.998390855093064, 2.16990611810209, 2.8836817848124534, 4.839826883092595], [4.5955762212301945, 1.6745992733663444, 3.3644830175370553, 3.291491658283797, None, 3.2794420052015023, 2.8881086810635943, 1.8737924984543453], [3.769211423281752, 3.961511055499243, 3.436865772653071, 2.2046950141741655, 1.9398090892958035, None, 0.6725554834950842, 2.592516823645494], [0.18096131446674324, 3.729155422764877, 3.9932402186186984, 2.9103145145774425, 1.2430446183872168, 3.2328020576509413, None, 0.13507388709712131], [2.0822584556344785, 4.570358945368876, 3.0776190111698436, 0.3657842695421437, 3.929348510246717, 0.3370548349529945, 0.36008790488377296, None]]\n",
      "Your code returned tours: [[0, 5, 4, 1, 6, 7, 3, 2]]\n",
      "Tour cost obtained by your code: 9.485326590775376\n",
      "------\n",
      "Trial # 13\n",
      " n= 7, k=3\n",
      "cost_matrix = \n",
      "[[None, 0.02460357002581348, 3.2839482887731823, 0.4146804385780195, 0.09245543424586944, 4.828113886496817, 0.908341024126954], [0.8002547660051001, None, 4.8830226832196235, 0.9715960193500889, 1.6424077081472344, 0.6119709921306637, 3.2246928300787507], [1.7378597324278877, 2.913330506966348, None, 0.9579453512226194, 2.9752761849424787, 0.5001715400923484, 1.3951346425329947], [1.673032118193769, 2.358624140508745, 4.2419383052225355, None, 1.72592886539173, 1.3715798284153786, 3.857875958803003], [4.437440089583285, 0.3145654590233188, 1.158210464204289, 3.0004042442473993, None, 1.1159417482885408, 1.1043807270908068], [2.4584118322218496, 4.949685980475279, 1.6806285363851303, 3.824005525195946, 0.1839890454606985, None, 3.3485144609832487], [3.9645397517233265, 2.3823495211931256, 3.906110574640489, 2.5706196324275066, 0.6254811086692319, 2.2900442067326643, None]]\n",
      "Your code returned tours: [[0, 3, 5, 2, 6, 4, 1]]\n",
      "Tour cost obtained by your code: 6.602324779609173\n",
      "------\n",
      "Trial # 14\n",
      " n= 8, k=3\n",
      "cost_matrix = \n",
      "[[None, 3.0150520155136515, 3.7452258916661387, 0.28706786455354294, 0.9885404792025959, 3.0668825039122853, 3.3717249244912804, 0.6476454338857657], [2.14423782577325, None, 0.9016628713773706, 4.240774867559987, 0.11799267863895624, 0.5834214891826817, 3.491774925815074, 4.246044649459375], [1.8095626362844501, 2.9781292770427283, None, 1.2932619520858486, 1.4267587187816977, 3.140311731360553, 3.526001171187896, 1.8167728802689371], [0.5081078734042738, 3.455827753370971, 1.7973598523973833, None, 2.779567160002214, 2.1685142736971725, 1.9534145970703976, 3.081804894677739], [1.9284337844563115, 1.4505031718161232, 4.951793366430871, 0.36113921316516306, None, 1.066032089119654, 2.3589013538214694, 0.46312251320443254], [3.023249083287824, 3.888276709015739, 4.047950935922614, 0.1631613857899289, 3.243748653588003, None, 1.478443606839086, 1.8136528223078026], [4.243407235680991, 0.07697776382723898, 4.774174337665523, 0.7342810301723868, 2.7663753850203836, 3.896545844884457, None, 1.4760921859400393], [3.8601196801870117, 0.22482645812052615, 4.777000321784245, 1.4165700665708536, 0.3668717606773664, 0.5148131006944406, 2.0592060141636304, None]]\n",
      "Your code returned tours: [[0, 7, 5, 6, 1, 2, 4, 3]]\n",
      "Tour cost obtained by your code: 5.915548581975037\n",
      "------\n",
      "Trial # 15\n",
      " n= 6, k=3\n",
      "cost_matrix = \n",
      "[[None, 1.8322882262254008, 1.0704745954187374, 0.8047729808931248, 1.9603722792489546, 3.9167553598432416], [1.6468851311758907, None, 2.7839824673255786, 4.9361353932752365, 4.415004399554365, 1.0709558291142607], [2.7424697058859504, 2.165499024733787, None, 4.821042231239171, 3.8191029588343968, 1.3592020268069371], [1.0506829525115884, 4.093326844859197, 0.8539624909047983, None, 2.6870470531438078, 0.19554146500010805], [2.5334285674138872, 0.002137016088145094, 2.6256639100719625, 0.857151208577655, None, 3.213610388884316], [1.7320948471726898, 4.653434080825345, 3.8840931901470173, 0.5648079417716012, 1.665266933520021, None]]\n",
      "Your code returned tours: [[0, 3, 2, 5, 4, 1]]\n",
      "Tour cost obtained by your code: 6.332226579388918\n",
      "------\n",
      "Trial # 16\n",
      " n= 10, k=3\n",
      "cost_matrix = \n",
      "[[None, 1.1869929243992634, 3.794008704853363, 2.7717342930441595, 3.7231529813380817, 3.4634639608061524, 3.1696988487234483, 4.119202895370083, 4.471155094579252, 0.15964227900119476], [4.526886719642419, None, 3.6291340654950104, 3.92298760106422, 1.484635657214763, 0.2036451979195758, 4.354362281507659, 3.5187497416879405, 4.973351538004139, 4.118430322023829], [1.6743151432052445, 2.1898458662562503, None, 4.7182721616117105, 4.0111149353257005, 2.746705575680624, 4.252887376622668, 1.3432445935947719, 0.9968111239216731, 4.561528144147648], [1.615683034617068, 4.385325061297945, 4.212462536380913, None, 0.2345967730953974, 1.1066966369618036, 2.782079491286935, 1.7976702543110052, 0.7170406087499143, 0.22269196340756026], [0.43357026801017995, 0.16933162824928905, 2.788760076045782, 4.836424356505283, None, 3.7778555449871174, 0.43433319614254173, 3.6547853273031015, 2.9649033457477088, 0.07224750434702776], [3.753216501185597, 4.255105614781858, 4.069385299382599, 4.842904941599878, 2.197271573102343, None, 4.366981488120134, 1.8095380993396626, 4.618763048621571, 2.5428131710566415], [1.0684453120260677, 2.1530025724032043, 1.6700630152152223, 3.5957496365633763, 3.775478735383591, 3.5091117657678583, None, 2.150399278216382, 0.30505707237268864, 2.5590897368878562], [1.6025203038873888, 0.07303723064009504, 1.015487681256117, 0.4601345546707414, 4.187846364505408, 2.6518241234135367, 3.6405671322720936, None, 2.1877598160137133, 2.2076761658181745], [0.7319844953296883, 2.850290348649528, 3.1175608621317674, 2.209767251523951, 1.9932263715309788, 3.8443505150835815, 0.28107938859556814, 0.27470676510689185, None, 2.2771294616445523], [2.946384627120475, 3.78904348293217, 2.0955581261423815, 0.45197250812779366, 4.108147598508409, 0.16899748213830446, 2.696009706924629, 1.7146120556475408, 3.513448692763731, None]]\n",
      "Your code returned tours: [[0, 9, 3, 4, 1, 5, 7, 2, 8, 6]]\n",
      "Tour cost obtained by your code: 6.39054999153234\n",
      "------\n",
      "Trial # 17\n",
      " n= 10, k=3\n",
      "cost_matrix = \n",
      "[[None, 2.9299666629456667, 2.744008222218141, 3.383113550221445, 1.8410728036546815, 1.7124265672329275, 2.170791261249649, 3.3525754204964864, 4.260951446881094, 2.8731486315753823], [2.9513795330918615, None, 1.7625565812870636, 2.5674733810343335, 0.424311259034143, 3.178273340498767, 3.239952477130058, 2.4401633073592084, 0.4487571750657393, 1.5682833104836806], [4.638776049654296, 1.3754699485377002, None, 2.3476548001453184, 2.934108972199966, 2.137972200117673, 3.015547127132013, 4.330702481247329, 4.151370980395181, 1.5343140235233759], [4.474228185585904, 1.4076747276117647, 4.747924459228134, None, 3.951074618306149, 1.841107226331209, 2.335834614091482, 0.16475967296842253, 0.9646809757469388, 4.437033937217825], [2.2896700689210396, 2.4078289594961646, 4.934267167815832, 2.9487004786621505, None, 1.659420777297826, 4.313000871920888, 3.3455271831681306, 3.127605177062545, 4.230401329731838], [3.7943208286506995, 0.4941488762385243, 3.389423615568881, 3.8134528893329063, 0.8406155866428006, None, 0.5883025890959465, 0.6094504243481907, 2.7525617031272542, 2.5351463771112313], [1.8262594550185884, 0.6682623165510715, 3.411187515425282, 4.517694558741496, 0.6085102313618446, 0.06700891758578964, None, 1.481718473534321, 4.80167198887529, 4.336333762333708], [2.1593230863153536, 0.08593216013049854, 2.524147561472547, 3.325291258745856, 2.3564559643808183, 3.9072536452077817, 1.6407819773941235, None, 4.39553085424771, 3.4841733196117093], [4.545749284768611, 0.1999436327682852, 3.554689438964958, 0.040743886712533706, 4.5392113763243005, 0.34957477103452483, 0.7585337283918187, 4.2928775179549525, None, 1.8121379616792754], [0.36890894202496805, 4.748654237001106, 1.7697096276587803, 3.878823259631918, 0.6058285874992958, 4.302226696659948, 4.862309524963575, 0.8326058023441141, 1.2692874027238321, None]]\n",
      "Your code returned tours: [[0, 4, 5, 6, 1, 8, 3, 7, 2, 9]]\n",
      "Tour cost obtained by your code: 9.838689748367111\n",
      "------\n",
      "Trial # 18\n",
      " n= 9, k=3\n",
      "cost_matrix = \n",
      "[[None, 3.9733332953505593, 2.7693124809840253, 4.763346328707162, 4.702861225898208, 3.964531445809384, 1.6526153119570957, 4.8868231003701394, 0.16777367576238156], [0.3232089716072917, None, 1.6023466441945966, 1.0050319371853111, 2.4926814135636253, 4.94176171666677, 1.6615149459619234, 0.33335849111648164, 3.754990938525649], [1.015257958092236, 2.1102867374642056, None, 4.763954100390221, 4.195623659084487, 4.287585154878009, 3.3871700845567076, 1.5698243227904545, 3.346999208645187], [0.31075764810329143, 2.223303171697025, 0.2651571065179431, None, 3.4216481145650786, 3.497111017375377, 3.1872059311704977, 0.2991172618157978, 0.8515480860180175], [2.587361877914586, 3.1526978690526914, 0.9972938845533408, 3.8705348073426205, None, 4.1714665852384485, 3.1180614282142525, 2.191886621581363, 0.4357351653755209], [4.419510762333209, 4.434275012332711, 4.308727672018776, 4.369781080193612, 2.0893201164772575, None, 3.7806480467874626, 2.3492718136057307, 3.937997387886138], [4.855607367665929, 4.860307429681386, 0.24453502279587092, 0.449556156601999, 2.3029152278030485, 4.164544188344435, None, 4.125740650557874, 2.736929678802509], [4.864687443462859, 1.7092013765080498, 4.52242509771414, 0.5159983843486177, 1.4035196855041965, 0.5899262740051259, 0.37699601349049927, None, 3.6066014472752346], [2.296623033939613, 1.3906795566367198, 4.070622888773229, 3.4217044509113843, 4.43878375416354, 1.0956762948012455, 3.0804059861272206, 3.0569986885313885, None]]\n",
      "Your code returned tours: [[0, 8, 5, 4, 2, 1, 7, 6, 3]]\n",
      "Tour cost obtained by your code: 7.931019018370702\n",
      "------\n",
      "Trial # 19\n",
      " n= 10, k=3\n",
      "cost_matrix = \n",
      "[[None, 3.898708734467885, 4.691641924983752, 3.1926713041330594, 3.0680129818708783, 2.4003159415647106, 2.224912193524715, 0.12801526151053788, 2.1569691508488646, 2.1905947961753434], [2.1157656494748656, None, 4.4786366422863875, 1.1754944830423952, 4.804713586684005, 1.118617745586724, 4.618536037135436, 0.6184878215715761, 2.72808650572759, 1.7698749445186652], [1.558297120699525, 0.200525999411586, None, 4.1800622208404175, 1.616185559494805, 3.282546655934599, 0.669106054149734, 0.6185616276683931, 3.920975528617773, 2.1397178954715335], [2.855866608035846, 3.9439915110275043, 0.9662311697354947, None, 2.7365304715600076, 1.7394230138086353, 4.888323129588937, 4.325885721269882, 4.410305630437213, 0.7268320450773369], [2.7420161355573454, 2.037316469022849, 2.297357413176226, 0.108507622072741, None, 2.2868129855611175, 2.06621608101925, 3.9149745936388802, 4.1873663443231415, 2.9460744541579005], [2.2612300516193535, 4.294283709594606, 4.315471043690627, 0.35432036352222473, 2.280976777561609, None, 3.744462850644194, 2.16571463491242, 0.6660585432976773, 0.17206735718457267], [2.0077501859359215, 4.557719052404056, 3.2475503171473017, 4.694043715325386, 1.8647272946863869, 1.587624206208213, None, 1.3459024612314736, 2.460447769749255, 0.40532625609719597], [2.9156437020092607, 4.827168573975652, 1.6373233167877528, 0.03568560108648089, 1.0512416238017752, 2.044032151191159, 4.072442452674808, None, 1.5807347102337344, 1.1302533053467079], [3.4112586310369757, 4.8646420752193205, 4.318393250904087, 3.3600821106739103, 1.8895812714035154, 0.3709673363257515, 1.2147669668685368, 2.936117336323134, None, 1.2972270463512658], [3.6939775440451954, 1.3497718768873235, 3.428019814152295, 4.6207887733890445, 4.872769816453318, 2.934405888214799, 0.007928504627781052, 4.619417682360321, 3.2308576021117767, None]]\n",
      "Your code returned tours: [[0, 7, 8, 5, 9, 6, 4, 3, 2, 1]]\n",
      "Tour cost obtained by your code: 7.515470905263452\n",
      "------\n",
      "test passed: 4 points\n"
     ]
    }
   ],
   "source": [
    "from random import uniform, randint\n",
    "\n",
    "def create_cost(n):\n",
    "    return [ [uniform(0, 5) if i != j else None for j in range(n)] for i in range(n)]\n",
    "\n",
    "for trial in range(20):\n",
    "    print(f'Trial # {trial}')\n",
    "    n = randint(5, 11)\n",
    "    k = randint(2, n//2)\n",
    "    print(f' n= {n}, k={k}')\n",
    "    cost_matrix = create_cost(n)\n",
    "    print('cost_matrix = ')\n",
    "    print(cost_matrix)\n",
    "    all_tours = upto_k_tsp_mtz_encoding(n, k, cost_matrix)\n",
    "    print(f'Your code returned tours: {all_tours}')\n",
    "    assert len(all_tours) <= k, f'k={k} must yield two tours -- your code returns {len(all_tours)} tours instead'\n",
    "\n",
    "    tour_cost = 0\n",
    "    for tour in all_tours:\n",
    "        assert tour[0] == 0, 'Each salesperson tour must start from vertex 0'\n",
    "        i = 0\n",
    "        for j in tour[1:]:\n",
    "            tour_cost += cost_matrix[i][j]\n",
    "            i = j\n",
    "        tour_cost += cost_matrix[i][0]\n",
    "\n",
    "    print(f'Tour cost obtained by your code: {tour_cost}')\n",
    "    #assert abs(tour_cost - 6) <= 0.001, f'Expected tour cost is 6, your code returned {tour_cost}'\n",
    "    for i in range(1, n):\n",
    "        is_in_tour = [ 1 if i in tour else 0 for tour in all_tours]\n",
    "        assert sum(is_in_tour) == 1, f' vertex {i} is in {sum(is_in_tour)} tours -- this is incorrect'\n",
    "    print('------')\n",
    "print('test passed: 4 points')"
   ]
  },
  {
   "cell_type": "markdown",
   "metadata": {
    "deletable": false,
    "editable": false,
    "nbgrader": {
     "cell_type": "markdown",
     "checksum": "d1aaa1df13b9d1c99d03f15154c09be7",
     "grade": false,
     "grade_id": "cell-da7b363d5bac322b",
     "locked": true,
     "schema_version": 3,
     "solution": false,
     "task": false
    }
   },
   "source": [
    "## Problem 2 (10 points)\n",
    "\n",
    "We noted the use of Christofides algorithm for metric TSP. We noted that for non-metric TSPs it does not work. \n",
    "In fact, the shortcutting used in Christofides algorithm can be _arbitrarily_ bad for a TSP that is symmetric but fails to be a metric TSP.\n",
    "\n",
    "In this example, we would like you to frame a symmetric TSP instance ($C_{ij} = C_{ji}$) with $5$ vertices wherein the algorithm obtained by \"shortcutting\" the minimum spanning tree (MST), that would be a 2-factor approximation for metric TSP, yields an answer that can be quite \"far off\" from the optimal solution.\n",
    "\n",
    "Enter a __symmetric__ cost-matrix for the TSP below as a 5x5 matrix as a list of lists following convention in our notes. such that the optimal answer is at least $10^6$ times smaller than that obtained by the TSP-based approximation. We will test your answer by running the TSP with shortcutting algorithm.\n",
    "\n",
    "__Hint:__ Force the edges $(0,1), (1,2), (2,3)$ and $(3,4)$ to be the minimum spanning tree. But make the weight of the edge form $4$ back to $0$ very high.\n",
    "\n",
    "\n",
    "__Note:__ this problem is tricky and requires you to be very familiar with how Christofides algorithm works. It may be wise to attempt the remaining problems first before this one. Do not worry about the diagonal entry of your matrices.\n"
   ]
  },
  {
   "cell_type": "code",
   "execution_count": 66,
   "metadata": {
    "ExecuteTime": {
     "end_time": "2023-10-15T04:56:12.253057Z",
     "start_time": "2023-10-15T04:56:12.248620Z"
    },
    "deletable": false,
    "nbgrader": {
     "cell_type": "code",
     "checksum": "cb0a19d102b7947454c4149cb42aa540",
     "grade": false,
     "grade_id": "cell-6e3b113678e2fe36",
     "locked": false,
     "schema_version": 3,
     "solution": true,
     "task": false
    }
   },
   "outputs": [],
   "source": [
    "# Write down the cost matrix as a list of lists. Remember, we want an example with $5$ vertices\n",
    "# cost_matrix = [[..], [...],[...]]\n",
    "# The cost matrix should represent a TSP instance such that the optimal answer is 10^6 smaller than the \n",
    "# answer obtained by shortcutting a minimum spanning tree.\n",
    "# your code here\n",
    "cost_matrix=[\n",
    "    [0, 1, 2, 3, 99999999999999999999999999999999999],\n",
    "    [1, 0, 1, 2, 3],\n",
    "    [2, 1, 0, 1, 2],\n",
    "    [3, 2, 1, 0, 1],\n",
    "    [99999999999999999999999999999999999, 3, 2, 1, 0]\n",
    "]"
   ]
  },
  {
   "cell_type": "code",
   "execution_count": 67,
   "metadata": {
    "ExecuteTime": {
     "end_time": "2023-10-15T04:56:13.341873Z",
     "start_time": "2023-10-15T04:56:13.336477Z"
    },
    "deletable": false,
    "editable": false,
    "nbgrader": {
     "cell_type": "code",
     "checksum": "703a1cf7175a7beda1a0c50dea81112d",
     "grade": true,
     "grade_id": "cell-62a3ff5de5ea71ff",
     "locked": true,
     "points": 3,
     "schema_version": 3,
     "solution": false,
     "task": false
    }
   },
   "outputs": [
    {
     "name": "stdout",
     "output_type": "stream",
     "text": [
      "Structure of your cost matrix looks OK (3 points).\n"
     ]
    }
   ],
   "source": [
    "# check that the cost matrix is symmetric.\n",
    "assert len(cost_matrix) == 5, f'Cost matrix must have 5 rows. Yours has {len(cost_matrix)} rows'\n",
    "assert all(len(cj) == 5 for cj in cost_matrix), f'Each row of the cost matrix must have 5 entries.'\n",
    "for i in range(5):\n",
    "    for j in range(i):\n",
    "        assert cost_matrix[i][j] == cost_matrix[j][i], f'Cost matrix fails to be symmetric at entries {(i,j)} and {(j,i)}'\n",
    "print('Structure of your cost matrix looks OK (3 points).')"
   ]
  },
  {
   "cell_type": "markdown",
   "metadata": {
    "deletable": false,
    "editable": false,
    "nbgrader": {
     "cell_type": "markdown",
     "checksum": "4efc070c9f6bf59f5eaca4c9306a07e3",
     "grade": false,
     "grade_id": "cell-82ad268179f6cf16",
     "locked": true,
     "schema_version": 3,
     "solution": false,
     "task": false
    }
   },
   "source": [
    "Please ensure that you run the two cells below or else, your tests will fail."
   ]
  },
  {
   "cell_type": "code",
   "execution_count": 68,
   "metadata": {
    "ExecuteTime": {
     "end_time": "2023-10-15T05:06:50.077598Z",
     "start_time": "2023-10-15T05:06:50.069418Z"
    },
    "deletable": false,
    "editable": false,
    "nbgrader": {
     "cell_type": "code",
     "checksum": "26614c7d750153806201ebf472e0a55d",
     "grade": false,
     "grade_id": "cell-71018aa2381f7212",
     "locked": true,
     "schema_version": 3,
     "solution": false,
     "task": false
    }
   },
   "outputs": [],
   "source": [
    "# MST based tsp approximation\n",
    "import networkx as nx\n",
    "\n",
    "# This code implements the simple MST based shortcutting approach that would yield factor of 2\n",
    "# approximation for metric TSPs.\n",
    "def minimum_spanning_tree_tsp(n, cost_matrix):\n",
    "    G = nx.Graph()\n",
    "    for i in range(n):\n",
    "        for j in range(i):\n",
    "            G.add_edge(i, j, weight=cost_matrix[i][j])\n",
    "    T = nx.minimum_spanning_tree(G)\n",
    "    print(f'MST for your graph has the edges {T.edges}')\n",
    "    mst_cost = 0\n",
    "    mst_dict = {} # store mst as a dictionary\n",
    "    for (i,j) in T.edges:\n",
    "        mst_cost += cost_matrix[i][j]\n",
    "        if i in mst_dict:\n",
    "            mst_dict[i].append(j)\n",
    "        else:\n",
    "            mst_dict[i] = [j]\n",
    "        if j in mst_dict:\n",
    "            mst_dict[j].append(i)\n",
    "        else:\n",
    "            mst_dict[j] = [i]\n",
    "    print(f'MST cost: {mst_cost}')\n",
    "    print(mst_dict)\n",
    "    # Let's form a tour with short cutting\n",
    "    def traverse_mst(tour_so_far, cur_node):\n",
    "        assert cur_node in mst_dict\n",
    "        next_nodes = mst_dict[cur_node]\n",
    "        for j in next_nodes:\n",
    "            if j in tour_so_far:\n",
    "                continue\n",
    "            tour_so_far.append(j)\n",
    "            traverse_mst(tour_so_far, j)\n",
    "        return\n",
    "    tour = [0]\n",
    "    traverse_mst(tour, 0)\n",
    "    i = 0\n",
    "    tour_cost = 0\n",
    "    for j in tour[1:]:\n",
    "        tour_cost += cost_matrix[i][j]\n",
    "        i = j\n",
    "    tour_cost += cost_matrix[i][0]\n",
    "    return tour, tour_cost"
   ]
  },
  {
   "cell_type": "code",
   "execution_count": 69,
   "metadata": {
    "ExecuteTime": {
     "end_time": "2023-10-15T05:06:59.658969Z",
     "start_time": "2023-10-15T05:06:59.647931Z"
    },
    "deletable": false,
    "editable": false,
    "nbgrader": {
     "cell_type": "code",
     "checksum": "8a2c3f9de1f1e6a0c99b39b4ce6ae57d",
     "grade": false,
     "grade_id": "cell-f6059309c78781bd",
     "locked": true,
     "schema_version": 3,
     "solution": false,
     "task": false
    }
   },
   "outputs": [],
   "source": [
    "# optimal TSP tour taken from our notes using MTZ encoding\n",
    "from pulp import *\n",
    "\n",
    "def mtz_encoding_tsp(n, cost_matrix):\n",
    "    assert len(cost_matrix) == n, f'Cost matrix is not {n}x{n}'\n",
    "    assert all(len(cj) == n for cj in cost_matrix), f'Cost matrix is not {n}x{n}'\n",
    "    # create our encoding variables\n",
    "    binary_vars = [ # add a binary variable x_{ij} if i not = j else simply add None\n",
    "        [ LpVariable(f'x_{i}_{j}', cat='Binary') if i != j else None for j in range(n)] \n",
    "        for i in range(n) ]\n",
    "    # add time stamps for ranges 1 .. n (skip vertex 0 for timestamps)\n",
    "    time_stamps = [LpVariable(f't_{j}', lowBound=0, upBound=n, cat='Continuous') for j in range(1, n)]\n",
    "    # create the problem\n",
    "    prob = LpProblem('TSP-MTZ', LpMinimize)\n",
    "    # create add the objective function \n",
    "    objective_function = lpSum( [ lpSum([xij*cj if xij != None else 0 for (xij, cj) in zip(brow, crow) ])\n",
    "                           for (brow, crow) in zip(binary_vars, cost_matrix)] )\n",
    "    \n",
    "    prob += objective_function \n",
    "    \n",
    "    # add the degree constraints\n",
    "    for i in range(n):\n",
    "        # Exactly one leaving variable\n",
    "        prob += lpSum([xj for xj in binary_vars[i] if xj != None]) == 1\n",
    "        # Exactly one entering\n",
    "        prob += lpSum([binary_vars[j][i] for j in range(n) if j != i]) == 1\n",
    "    # add time stamp constraints\n",
    "    for i in range(1,n):\n",
    "        for j in range(1, n):\n",
    "            if i == j: \n",
    "                continue\n",
    "            xij = binary_vars[i][j]\n",
    "            ti = time_stamps[i-1]\n",
    "            tj = time_stamps[j -1]\n",
    "            prob += tj >= ti + xij - (1-xij)*(n+1) # add the constraint\n",
    "    # Done: solve the problem\n",
    "    status = prob.solve(PULP_CBC_CMD(msg=False)) # turn off messages\n",
    "    assert status == constants.LpStatusOptimal, f'Unexpected non-optimal status {status}'\n",
    "    # Extract the tour\n",
    "    tour = [0]\n",
    "    tour_cost = 0\n",
    "    while len(tour) < n:\n",
    "        i = tour[-1]\n",
    "        # find all indices j such that x_ij >= 0.999 \n",
    "        sols = [j for (j, xij) in enumerate(binary_vars[i]) if xij != None and xij.varValue >= 0.999]\n",
    "        assert len(sols) == 1, f'{sols}' # there better be just one such vertex or something has gone quite wrong\n",
    "        j = sols[0] # extract the lone solutio \n",
    "        tour_cost = tour_cost + cost_matrix[i][j] # add to the tour cost\n",
    "        tour.append(j) # append to the tour\n",
    "        assert j != 0\n",
    "    i = tour[-1]\n",
    "    tour_cost = tour_cost + cost_matrix[i][0]\n",
    "    return tour, tour_cost\n",
    "        "
   ]
  },
  {
   "cell_type": "code",
   "execution_count": 70,
   "metadata": {
    "ExecuteTime": {
     "end_time": "2023-10-15T04:56:37.160661Z",
     "start_time": "2023-10-15T04:56:37.113817Z"
    },
    "deletable": false,
    "editable": false,
    "nbgrader": {
     "cell_type": "code",
     "checksum": "d43db69420cb630560808d02595b2ec0",
     "grade": true,
     "grade_id": "cell-43ec31eff68e08e6",
     "locked": true,
     "points": 7,
     "schema_version": 3,
     "solution": false,
     "task": false
    }
   },
   "outputs": [
    {
     "name": "stdout",
     "output_type": "stream",
     "text": [
      "MST for your graph has the edges [(1, 0), (1, 2), (2, 3), (3, 4)]\n",
      "MST cost: 4\n",
      "{1: [0, 2], 0: [1], 2: [1, 3], 3: [2, 4], 4: [3]}\n",
      "MST approximation yields tour is [0, 1, 2, 3, 4] with cost 100000000000000000000000000000000003\n",
      "Optimal tour is [0, 2, 3, 4, 1] with cost 8\n",
      "Test passed: 7 points\n"
     ]
    }
   ],
   "source": [
    "#test that exact answer is 10^6 times smaller than approximate answer.\n",
    "# compute MST based approximation\n",
    "tour, tour_cost = minimum_spanning_tree_tsp(5, cost_matrix)\n",
    "print(f'MST approximation yields tour is {tour} with cost {tour_cost}')\n",
    "# compute exact answer\n",
    "opt_tour, opt_tour_cost = mtz_encoding_tsp(5, cost_matrix)\n",
    "print(f'Optimal tour is {opt_tour} with cost {opt_tour_cost}')\n",
    "# check that the fraction is 1million times apart.\n",
    "assert tour_cost/opt_tour_cost >= 1E+06, 'The TSP + shortcutting tour must be at least 10^6 times costlier than optimum. In your case, the ratio is {tour_cost/opt_tour_cost}'\n",
    "print('Test passed: 7 points')"
   ]
  },
  {
   "cell_type": "markdown",
   "metadata": {
    "deletable": false,
    "editable": false,
    "nbgrader": {
     "cell_type": "markdown",
     "checksum": "8d485a614c611ced41114f8578f55465",
     "grade": false,
     "grade_id": "cell-4466e347a5255d40",
     "locked": true,
     "schema_version": 3,
     "solution": false,
     "task": false
    }
   },
   "source": [
    "## Problem 3\n",
    "\n",
    "In this problem, we wish to solve TSP with additional constraints. Suppose we are given a TSP instance in the form of a $n\\times n$ matrix $C$ representing a complete graph. \n",
    "\n",
    "We wish to solve a TSP but with additional constraints specified as a list $[(i_0, j_0), \\ldots, (i_k, j_k)]$ wherein each pair $(i_l, j_l)$ in the list specifies that vertex $i_l$ must be visited in the tour before vertex $j_l$. Assume that the tour starts/ends at vertex $0$ and none of the vertices in the constraint list is $0$. I.e, $i_l\\not= 0, j_l \\not= 0$ for all $0 \\leq l \\leq k$.\n",
    "\n",
    "Modify one of the ILP encodings we have presented to solve TSP with extra constraints. Implement your solution in the function `tsp_with_extra_constraints(n, cost_matrix, constr_list)` where the extra argument `constr_list` is a list of pairs `[(i0,j0),...., (ik, jk)]` that specify for each pair `(il,jl)` that vertex `il` must be visited before `jl`. Assume that the problem is feasible (no need to handle infeasible instances). \n",
    "Your code should output the optimal tour as a list.\n",
    "\n",
    "## Example\n",
    "\n",
    "Consider again the graph with $5$ nodes and the following cost matrix from problem 1:\n",
    "\n",
    "$$ \\begin{array}{c|ccccc}\n",
    "  \\text{Vertices} & 0 & 1 & 2 & 3 & 4 \\\\ \n",
    "   \\hline\n",
    " 0 & - & 3 & 4 & 3 & 5 \\\\ \n",
    " 1 & 1 & - & 2 & 4 & 1 \\\\ \n",
    " 2 & 2 & 1 & - & 5 & 4 \\\\ \n",
    " 3 & 1 & 1 & 5 & - & 4 \\\\ \n",
    " 4 & 2 & 1 & 3 & 5 & - \\\\ \n",
    " \\end{array}$$\n",
    " \n",
    "The optimal TSP tour will be $[0, 3, 1, 4, 2]$ with total cost $10$.\n",
    "\n",
    "Suppose we added the constraints $[(4, 3), (1, 2)]$ we note that the tour satisfies the constraint $(1, 2)$ since it visits vertex $1$ before vertex $2$ but it unfortunately, $(4,3)$ is violated since vetex $3$ is visited before $4$ in the tour.\n"
   ]
  },
  {
   "cell_type": "code",
   "execution_count": 94,
   "metadata": {
    "ExecuteTime": {
     "end_time": "2023-10-15T05:19:36.624259Z",
     "start_time": "2023-10-15T05:19:36.611763Z"
    },
    "deletable": false,
    "nbgrader": {
     "cell_type": "code",
     "checksum": "15adb99491c3bd71b058757b5c12073d",
     "grade": false,
     "grade_id": "cell-c71192789edb33c4",
     "locked": false,
     "schema_version": 3,
     "solution": true,
     "task": false
    }
   },
   "outputs": [],
   "source": [
    "def tsp_with_extra_constraints(n, cost_matrix, constraints):\n",
    "    assert len(cost_matrix) == n, f'Cost matrix is not {n}x{n}'\n",
    "    assert all(len(cj) == n for cj in cost_matrix), f'Cost matrix is not {n}x{n}'\n",
    "    assert all( 1 <= i < n and 1 <= j < n and i != j for (i,j) in constraints)\n",
    "    # TODO: encode the problem in pulp (a) decision variables; (b) constraints; (c) objective; (d) solve and extract\n",
    "    #       solution. This is going to be very close to the MTZ encoding that we have presented in our notes. You can use\n",
    "    #       our code as a starting point.\n",
    "    # your code here\n",
    "    binary_vars = [ # add a binary variable x_{ij} if i not = j else simply add None\n",
    "        [ LpVariable(f'x_{i}_{j}', cat='Binary') if i != j else None for j in range(n)] \n",
    "        for i in range(n) ]\n",
    "    # add time stamps for ranges 1 .. n (skip vertex 0 for timestamps)\n",
    "    time_stamps = [LpVariable(f't_{j}', lowBound=0, upBound=n, cat='Continuous') for j in range(1, n)]\n",
    "    # create the problem\n",
    "    prob = LpProblem('TSP-MTZ', LpMinimize)\n",
    "    # create add the objective function \n",
    "    objective_function = lpSum( [ lpSum([xij*cj if xij != None else 0 for (xij, cj) in zip(brow, crow) ])\n",
    "                           for (brow, crow) in zip(binary_vars, cost_matrix)] )\n",
    "    \n",
    "    prob += objective_function \n",
    "    \n",
    "    # add the degree constraints\n",
    "    for i in range(n):\n",
    "        # Exactly one leaving variable\n",
    "        prob += lpSum([xj for xj in binary_vars[i] if xj != None]) == 1\n",
    "        # Exactly one entering\n",
    "        prob += lpSum([binary_vars[j][i] for j in range(n) if j != i]) == 1\n",
    "    # add time stamp constraints\n",
    "    for i in range(1,n):\n",
    "        for j in range(1, n):\n",
    "            if i == j: \n",
    "                continue\n",
    "            xij = binary_vars[i][j]\n",
    "            ti = time_stamps[i-1]\n",
    "            tj = time_stamps[j -1]\n",
    "            prob += tj >= ti + xij - (1-xij)*(n+1) # add the constraint\n",
    "    for i, j in constraints:\n",
    "        prob += time_stamps[j - 1] >= time_stamps[i - 1]\n",
    "    # Done: solve the problem\n",
    "    status = prob.solve(PULP_CBC_CMD(msg=False)) # turn off messages\n",
    "    assert status == constants.LpStatusOptimal, f'Unexpected non-optimal status {status}'\n",
    "    # Extract the tour\n",
    "    tour = [0]\n",
    "    while len(tour) < n:\n",
    "        i = tour[-1]\n",
    "        # find all indices j such that x_ij >= 0.999 \n",
    "        sols = [j for (j, xij) in enumerate(binary_vars[i]) if xij != None and xij.varValue >= 0.999]\n",
    "        assert len(sols) == 1, f'{sols}' # there better be just one such vertex or something has gone quite wrong\n",
    "        j = sols[0] # extract the lone solutio \n",
    "        tour.append(j) # append to the tour\n",
    "        assert j != 0\n",
    "    i = tour[-1]\n",
    "    return tour\n",
    "       "
   ]
  },
  {
   "cell_type": "code",
   "execution_count": 95,
   "metadata": {
    "ExecuteTime": {
     "end_time": "2023-10-15T05:24:11.545263Z",
     "start_time": "2023-10-15T05:24:11.512466Z"
    },
    "deletable": false,
    "editable": false,
    "nbgrader": {
     "cell_type": "code",
     "checksum": "d9e9a8ef73ddbbddb5b378a7a6dbff5f",
     "grade": true,
     "grade_id": "cell-6d36c6539b102ad2",
     "locked": true,
     "points": 3,
     "schema_version": 3,
     "solution": false,
     "task": false
    }
   },
   "outputs": [
    {
     "name": "stdout",
     "output_type": "stream",
     "text": [
      "Tour:[0, 3, 1, 4, 2]\n",
      "Cost of your tour: 10\n",
      "Test Passed (3 points)\n"
     ]
    }
   ],
   "source": [
    "cost_matrix=[ [None,3,4,3,5],\n",
    "             [1, None, 2,4, 1],\n",
    "             [2, 1, None, 5, 4],\n",
    "             [1, 1, 5, None, 4],\n",
    "             [2, 1, 3, 5, None] ]\n",
    "n=5\n",
    "constraints = [(3,4),(1,2)]\n",
    "tour = tsp_with_extra_constraints(n, cost_matrix, constraints)\n",
    "i = 0\n",
    "tour_cost = 0\n",
    "for j in tour[1:]:\n",
    "    tour_cost += cost_matrix[i][j]\n",
    "    i = j\n",
    "tour_cost += cost_matrix[i][0]\n",
    "print(f'Tour:{tour}')\n",
    "print(f'Cost of your tour: {tour_cost}')\n",
    "assert abs(tour_cost-10) <= 0.001, 'Expected cost was 10'\n",
    "for i in range(n):\n",
    "    num = sum([1 if j == i else 0 for j in tour])\n",
    "    assert  num == 1, f'Vertex {i} repeats {num} times in tour'\n",
    "for (i, j) in constraints:\n",
    "    assert tour.index(i) < tour.index(j), f'Tour does not respect constraint {(i,j)}'\n",
    "print('Test Passed (3 points)')"
   ]
  },
  {
   "cell_type": "code",
   "execution_count": 96,
   "metadata": {
    "ExecuteTime": {
     "end_time": "2023-10-15T05:24:42.003281Z",
     "start_time": "2023-10-15T05:24:41.945027Z"
    },
    "deletable": false,
    "editable": false,
    "nbgrader": {
     "cell_type": "code",
     "checksum": "edd31c4ed64921cde8b5d2b55a6d7337",
     "grade": true,
     "grade_id": "cell-6efd9b8c3a4a7996",
     "locked": true,
     "points": 2,
     "schema_version": 3,
     "solution": false,
     "task": false
    }
   },
   "outputs": [
    {
     "name": "stdout",
     "output_type": "stream",
     "text": [
      "Tour:[0, 1, 4, 2, 3]\n",
      "Cost of your tour: 13\n",
      "Test Passed (3 points)\n"
     ]
    }
   ],
   "source": [
    "cost_matrix=[ [None,3,4,3,5],\n",
    "             [1, None, 2,4, 1],\n",
    "             [2, 1, None, 5, 4],\n",
    "             [1, 1, 5, None, 4],\n",
    "             [2, 1, 3, 5, None] ]\n",
    "n=5\n",
    "constraints = [(4,3),(1,2)]\n",
    "tour = tsp_with_extra_constraints(n, cost_matrix, constraints)\n",
    "i = 0\n",
    "tour_cost = 0\n",
    "for j in tour[1:]:\n",
    "    tour_cost += cost_matrix[i][j]\n",
    "    i = j\n",
    "tour_cost += cost_matrix[i][0]\n",
    "print(f'Tour:{tour}')\n",
    "print(f'Cost of your tour: {tour_cost}')\n",
    "assert abs(tour_cost-13) <= 0.001, 'Expected cost was 13'\n",
    "for i in range(n):\n",
    "    num = sum([1 if j == i else 0 for j in tour])\n",
    "    assert  num == 1, f'Vertex {i} repeats {num} times in tour'\n",
    "for (i, j) in constraints:\n",
    "    assert tour.index(i) < tour.index(j), f'Tour does not respect constraint {(i,j)}'\n",
    "print('Test Passed (3 points)')"
   ]
  },
  {
   "cell_type": "code",
   "execution_count": 97,
   "metadata": {
    "ExecuteTime": {
     "end_time": "2023-10-15T05:27:53.121803Z",
     "start_time": "2023-10-15T05:27:47.308766Z"
    },
    "deletable": false,
    "editable": false,
    "nbgrader": {
     "cell_type": "code",
     "checksum": "2a97d835311b91236657e24944b0b607",
     "grade": true,
     "grade_id": "cell-474fa5a6876c7de0",
     "locked": true,
     "points": 10,
     "schema_version": 3,
     "solution": false,
     "task": false
    }
   },
   "outputs": [
    {
     "name": "stdout",
     "output_type": "stream",
     "text": [
      "Trial # 0\n",
      "Tour:[0, 6, 4, 7, 1, 2, 5, 3]\n",
      "Cost of your tour: 13.830583304729801\n",
      "Trial # 1\n",
      "Tour:[0, 5, 4, 9, 7, 8, 6, 1, 2, 3]\n",
      "Cost of your tour: 10.62490606359598\n",
      "Trial # 2\n",
      "Tour:[0, 5, 4, 8, 6, 7, 1, 2, 3]\n",
      "Cost of your tour: 9.019814187059097\n",
      "Trial # 3\n",
      "Tour:[0, 7, 8, 1, 5, 4, 3, 2, 6]\n",
      "Cost of your tour: 10.629901618604844\n",
      "Trial # 4\n",
      "Tour:[0, 6, 7, 1, 5, 4, 2, 3]\n",
      "Cost of your tour: 8.761615783797266\n",
      "Trial # 5\n",
      "Tour:[0, 6, 5, 4, 7, 2, 1, 3]\n",
      "Cost of your tour: 8.327558377087701\n",
      "Trial # 6\n",
      "Tour:[0, 5, 4, 2, 1, 3]\n",
      "Cost of your tour: 6.424818921765299\n",
      "Trial # 7\n",
      "Tour:[0, 9, 8, 1, 4, 3, 2, 7, 6, 5]\n",
      "Cost of your tour: 11.069590207612638\n",
      "Trial # 8\n",
      "Tour:[0, 10, 8, 9, 4, 1, 5, 2, 6, 7, 3]\n",
      "Cost of your tour: 11.533057734122274\n",
      "Trial # 9\n",
      "Tour:[0, 10, 6, 9, 8, 4, 2, 1, 5, 3, 7]\n",
      "Cost of your tour: 12.298344064828116\n",
      "Trial # 10\n",
      "Tour:[0, 4, 8, 7, 5, 6, 1, 2, 3]\n",
      "Cost of your tour: 11.557698245506936\n",
      "Trial # 11\n",
      "Tour:[0, 7, 9, 10, 5, 6, 4, 2, 1, 8, 3]\n",
      "Cost of your tour: 13.88413184022401\n",
      "Trial # 12\n",
      "Tour:[0, 7, 6, 1, 5, 4, 3, 2]\n",
      "Cost of your tour: 8.586839332080897\n",
      "Trial # 13\n",
      "Tour:[0, 5, 1, 4, 2, 3]\n",
      "Cost of your tour: 11.22948128455645\n",
      "Trial # 14\n",
      "Tour:[0, 6, 1, 3, 4, 5, 2]\n",
      "Cost of your tour: 12.220934736017057\n",
      "Trial # 15\n",
      "Tour:[0, 7, 1, 5, 6, 3, 4, 2]\n",
      "Cost of your tour: 9.012740573184146\n",
      "Trial # 16\n",
      "Tour:[0, 7, 10, 9, 5, 1, 8, 6, 4, 2, 3]\n",
      "Cost of your tour: 10.578451526920862\n",
      "Trial # 17\n",
      "Tour:[0, 5, 1, 4, 3, 2]\n",
      "Cost of your tour: 10.796737767168935\n",
      "Trial # 18\n",
      "Tour:[0, 8, 5, 10, 1, 3, 9, 4, 7, 6, 2]\n",
      "Cost of your tour: 7.755831706734082\n",
      "Trial # 19\n",
      "Tour:[0, 5, 4, 7, 6, 2, 1, 3]\n",
      "Cost of your tour: 12.30526047917606\n",
      "Test Passed (10 points)\n"
     ]
    }
   ],
   "source": [
    "from random import uniform, randint\n",
    "\n",
    "def create_cost(n):\n",
    "    return [ [uniform(0, 5) if i != j else None for j in range(n)] for i in range(n)]\n",
    "\n",
    "for trial in range(20):\n",
    "    print(f'Trial # {trial}')\n",
    "    n = randint(6, 11)\n",
    "    cost_matrix = create_cost(n)\n",
    "    constraints = [(1, 3), (4, 2), (n-1, 1), (n-2, 2)]\n",
    "    tour = tsp_with_extra_constraints(n, cost_matrix, constraints)\n",
    "    i = 0\n",
    "    tour_cost = 0\n",
    "    for j in tour[1:]:\n",
    "        tour_cost += cost_matrix[i][j]\n",
    "        i = j\n",
    "    tour_cost += cost_matrix[i][0]\n",
    "    print(f'Tour:{tour}')\n",
    "    print(f'Cost of your tour: {tour_cost}')\n",
    "    for i in range(n):\n",
    "        num = sum([1 if j == i else 0 for j in tour])\n",
    "        assert  num == 1, f'Vertex {i} repeats {num} times in tour'\n",
    "    for (i, j) in constraints:\n",
    "        assert tour.index(i) < tour.index(j), f'Tour does not respect constraint {(i,j)}'\n",
    "print('Test Passed (10 points)')"
   ]
  },
  {
   "cell_type": "markdown",
   "metadata": {
    "deletable": false,
    "editable": false,
    "nbgrader": {
     "cell_type": "markdown",
     "checksum": "190693d55308cde180115bd430bc3eaf",
     "grade": false,
     "grade_id": "cell-6ea801ecafe10722",
     "locked": true,
     "schema_version": 3,
     "solution": false,
     "task": false
    }
   },
   "source": [
    "## Answers to Select Problems\n",
    "\n",
    "### 1A part A\n",
    "\n",
    "- Vertex 0: $k$ edges leave and $k$ edges enter.\n",
    "- Vertex 1, ..., n-1: 1 edge leaves and 1 edge enters (same as TSP).\n",
    "\n",
    "### 1A part B\n",
    "\n",
    "This is a trick question. There is no need to change any of the time stamp related constraints.\n"
   ]
  },
  {
   "cell_type": "markdown",
   "metadata": {
    "deletable": false,
    "editable": false,
    "nbgrader": {
     "cell_type": "markdown",
     "checksum": "a1dcc96f17cdedf717d7a923915117c3",
     "grade": false,
     "grade_id": "cell-e31b1cce9d75b156",
     "locked": true,
     "schema_version": 3,
     "solution": false,
     "task": false
    }
   },
   "source": [
    "## That's All Folks!"
   ]
  }
 ],
 "metadata": {
  "kernelspec": {
   "display_name": "Python 3",
   "language": "python",
   "name": "python3"
  },
  "language_info": {
   "codemirror_mode": {
    "name": "ipython",
    "version": 3
   },
   "file_extension": ".py",
   "mimetype": "text/x-python",
   "name": "python",
   "nbconvert_exporter": "python",
   "pygments_lexer": "ipython3",
   "version": "3.7.6"
  }
 },
 "nbformat": 4,
 "nbformat_minor": 5
}
